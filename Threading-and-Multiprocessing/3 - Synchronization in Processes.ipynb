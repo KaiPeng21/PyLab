{
 "cells": [
  {
   "cell_type": "markdown",
   "metadata": {},
   "source": [
    "### Synchronization in Processes"
   ]
  },
  {
   "cell_type": "markdown",
   "metadata": {},
   "source": [
    "### Problem in Shared Memory\n"
   ]
  },
  {
   "cell_type": "code",
   "execution_count": 1,
   "metadata": {},
   "outputs": [],
   "source": [
    "import time\n",
    "from multiprocessing import Process, Value, Lock, Pool"
   ]
  },
  {
   "cell_type": "code",
   "execution_count": 2,
   "metadata": {},
   "outputs": [
    {
     "name": "stdout",
     "output_type": "stream",
     "text": [
      "before same number of deposit and withdraw: 2000\n",
      "after same number of deposit and withdraw: 2078\n",
      "before same number of deposit and withdraw: 2000\n",
      "after same number of deposit and withdraw: 2128\n",
      "before same number of deposit and withdraw: 2000\n",
      "after same number of deposit and withdraw: 2116\n",
      "before same number of deposit and withdraw: 2000\n",
      "after same number of deposit and withdraw: 2002\n",
      "before same number of deposit and withdraw: 2000\n",
      "after same number of deposit and withdraw: 1908\n"
     ]
    }
   ],
   "source": [
    "def deposit(balance):\n",
    "    for i in range(1000):\n",
    "        time.sleep(0.001)\n",
    "        balance.value = balance.value + 1\n",
    "\n",
    "def withdraw(balance):\n",
    "    for i in range(1000):\n",
    "        time.sleep(0.001)\n",
    "        balance.value = balance.value - 1\n",
    "\n",
    "def demo_shared_memory_problem():\n",
    "    balance = Value('i', 2000)\n",
    "    print(f'before same number of deposit and withdraw: {balance.value}')\n",
    "    p1 = Process(target=deposit, args=(balance,))\n",
    "    p2 = Process(target=withdraw, args=(balance,))\n",
    "    p1.start()\n",
    "    p2.start()\n",
    "    p1.join()\n",
    "    p2.join()\n",
    "    print(f'after same number of deposit and withdraw: {balance.value}')\n",
    "\n",
    "for i in range(5):\n",
    "    demo_shared_memory_problem()\n"
   ]
  },
  {
   "cell_type": "markdown",
   "metadata": {},
   "source": [
    "### Multiprocessing Lock"
   ]
  },
  {
   "cell_type": "code",
   "execution_count": 3,
   "metadata": {},
   "outputs": [
    {
     "name": "stdout",
     "output_type": "stream",
     "text": [
      "before same number of deposit and withdraw: 2000\n",
      "after same number of deposit and withdraw: 2000\n",
      "before same number of deposit and withdraw: 2000\n",
      "after same number of deposit and withdraw: 2000\n",
      "before same number of deposit and withdraw: 2000\n",
      "after same number of deposit and withdraw: 2000\n",
      "before same number of deposit and withdraw: 2000\n",
      "after same number of deposit and withdraw: 2000\n",
      "before same number of deposit and withdraw: 2000\n",
      "after same number of deposit and withdraw: 2000\n"
     ]
    }
   ],
   "source": [
    "def deposit_lock1(balance, lock):\n",
    "    for i in range(1000):\n",
    "        time.sleep(0.001)\n",
    "        lock.acquire()\n",
    "        balance.value = balance.value + 1\n",
    "        lock.release()\n",
    "\n",
    "def withdraw_lock1(balance, lock):\n",
    "    for i in range(1000):\n",
    "        time.sleep(0.001)\n",
    "        lock.acquire()\n",
    "        balance.value = balance.value - 1\n",
    "        lock.release()\n",
    "\n",
    "def demo_lock1():\n",
    "    lock = Lock()\n",
    "    balance = Value('i', 2000)\n",
    "    print(f'before same number of deposit and withdraw: {balance.value}')\n",
    "    p1 = Process(target=deposit_lock1, args=(balance, lock))\n",
    "    p2 = Process(target=withdraw_lock1, args=(balance, lock))\n",
    "    p1.start()\n",
    "    p2.start()\n",
    "    p1.join()\n",
    "    p2.join()\n",
    "    print(f'after same number of deposit and withdraw: {balance.value}')\n",
    "\n",
    "for i in range(5):\n",
    "    demo_lock1()"
   ]
  },
  {
   "cell_type": "markdown",
   "metadata": {},
   "source": [
    "### Use the the Decorator Design Pattern"
   ]
  },
  {
   "cell_type": "code",
   "execution_count": 4,
   "metadata": {},
   "outputs": [],
   "source": [
    "from contextlib import ContextDecorator\n",
    "\n",
    "class SimpleLock(ContextDecorator):\n",
    "    \n",
    "    def __init__(self):\n",
    "        self.lock = Lock()\n",
    "    \n",
    "    def __enter__(self):\n",
    "        self.lock.acquire()\n",
    "        return self\n",
    "\n",
    "    def __exit__(self, exc_type, exc_val, exc_tb):\n",
    "        self.lock.release()"
   ]
  },
  {
   "cell_type": "markdown",
   "metadata": {},
   "source": [
    "Without using locks - having synchronization problem"
   ]
  },
  {
   "cell_type": "code",
   "execution_count": 11,
   "metadata": {},
   "outputs": [
    {
     "name": "stdout",
     "output_type": "stream",
     "text": [
      "before: 20000\n",
      "after: 20270\n",
      "before: 20270\n",
      "after: 20110\n",
      "before: 20110\n",
      "after: 20670\n",
      "before: 20670\n",
      "after: 21230\n",
      "before: 21230\n",
      "after: 21490\n"
     ]
    }
   ],
   "source": [
    "\n",
    "balance = Value('i', 20000)\n",
    "\n",
    "def deposit(amount):\n",
    "    \"\"\"\n",
    "    param amount: amount of money to be deposit\n",
    "    \"\"\"\n",
    "    global balance\n",
    "    balance.value = balance.value + amount\n",
    "    \n",
    "def withdraw(amount):\n",
    "    \"\"\"\n",
    "    param amount: amount of money to be withdraw\n",
    "    \"\"\"\n",
    "    global balance\n",
    "    balance.value = balance.value - amount\n",
    "\n",
    "def deposit_task(amount, times):\n",
    "    \"\"\"\n",
    "    param amount: amount of money to be deposit\n",
    "    param times: number of transactions\n",
    "    \"\"\"\n",
    "    global balance\n",
    "    for _ in range(times):\n",
    "        deposit(amount)\n",
    "    \n",
    "def withdraw_task(amount, times):\n",
    "    \"\"\"\n",
    "    param amount: amount of moeny to be withdraw\n",
    "    param times: number of transactions\n",
    "    \"\"\"\n",
    "    global balance\n",
    "    for _ in range(times):\n",
    "        withdraw(amount)\n",
    "    \n",
    "def no_lock_example():\n",
    "    global balance\n",
    "    \n",
    "    # 4 workers\n",
    "    # -- 2 workers doing deposit jobs\n",
    "    # ---- each worker deposit $10 500 times \n",
    "    # -- 2 workers doing withdraw jobs\n",
    "    # ---- each worker withdraw $10 500 times\n",
    "    # total of $10,000 deposit and $10,000 withdrawal\n",
    "    # logically, expect the balance to stay the same ($20,000)\n",
    "    # after all deposit and withdraw\n",
    "    times = [500, 500]\n",
    "    amount = [10, 10]\n",
    "    \n",
    "    print(f'before: {balance.value}')\n",
    "    # Use two cores to deposit and two cores to withdraw\n",
    "    with Pool(2) as pd, Pool(2) as pw:\n",
    "        pd.starmap(deposit_task, zip(amount, times))\n",
    "        pw.starmap(withdraw_task, zip(amount, times))\n",
    "    print(f'after: {balance.value}')\n",
    "\n",
    "# test the result 5 times\n",
    "for _ in range(5):\n",
    "    no_lock_example()\n",
    "    "
   ]
  },
  {
   "cell_type": "markdown",
   "metadata": {},
   "source": [
    "The example above had the same problem that a deposit transaction can happen before a withdrawal transaction completes and vice versa. Now let's change the code by adding the two lines of decorator."
   ]
  },
  {
   "cell_type": "code",
   "execution_count": 15,
   "metadata": {},
   "outputs": [
    {
     "name": "stdout",
     "output_type": "stream",
     "text": [
      "before: 20000\n",
      "after: 20000\n",
      "before: 20000\n",
      "after: 20000\n",
      "before: 20000\n",
      "after: 20000\n",
      "before: 20000\n",
      "after: 20000\n",
      "before: 20000\n",
      "after: 20000\n"
     ]
    }
   ],
   "source": [
    "\n",
    "balance = Value('i', 20000)\n",
    "\n",
    "simple_lock = SimpleLock()\n",
    "\n",
    "@simple_lock\n",
    "def deposit(amount):\n",
    "    \"\"\"\n",
    "    param amount: amount of money to be deposit\n",
    "    \"\"\"\n",
    "    global balance\n",
    "    balance.value = balance.value + amount\n",
    "\n",
    "@simple_lock\n",
    "def withdraw(amount):\n",
    "    \"\"\"\n",
    "    param amount: amount of money to be withdraw\n",
    "    \"\"\"\n",
    "    global balance\n",
    "    balance.value = balance.value - amount\n",
    "\n",
    "def deposit_task(amount, times):\n",
    "    \"\"\"\n",
    "    param amount: amount of money to be deposit\n",
    "    param times: number of transactions\n",
    "    \"\"\"\n",
    "    global balance\n",
    "    for _ in range(times):\n",
    "        deposit(amount)\n",
    "    \n",
    "def withdraw_task(amount, times):\n",
    "    \"\"\"\n",
    "    param amount: amount of moeny to be withdraw\n",
    "    param times: number of transactions\n",
    "    \"\"\"\n",
    "    global balance\n",
    "    for _ in range(times):\n",
    "        withdraw(amount)\n",
    "    \n",
    "def decorator_example():\n",
    "    global balance\n",
    "    \n",
    "    # 4 workers\n",
    "    # -- 2 workers doing deposit jobs\n",
    "    # ---- each worker deposit $10 500 times \n",
    "    # -- 2 workers doing withdraw jobs\n",
    "    # ---- each worker withdraw $10 500 times\n",
    "    # total of $10,000 deposit and $10,000 withdrawal\n",
    "    # logically, expect the balance to stay the same ($20,000)\n",
    "    # after all deposit and withdraw\n",
    "    times = [500, 500]\n",
    "    amount = [10, 10]\n",
    "    \n",
    "    print(f'before: {balance.value}')\n",
    "    # Use two cores to deposit and two cores to withdraw\n",
    "    with Pool(2) as pd, Pool(2) as pw:\n",
    "        pd.starmap(deposit_task, zip(amount, times))\n",
    "        pw.starmap(withdraw_task, zip(amount, times))\n",
    "    print(f'after: {balance.value}')\n",
    "\n",
    "# test the result 5 times\n",
    "for _ in range(5):\n",
    "    decorator_example()\n",
    "    "
   ]
  },
  {
   "cell_type": "markdown",
   "metadata": {},
   "source": [
    "You can also use the the ContexDecorator class in a with-statement fashion."
   ]
  },
  {
   "cell_type": "code",
   "execution_count": 16,
   "metadata": {},
   "outputs": [
    {
     "name": "stdout",
     "output_type": "stream",
     "text": [
      "before: 20000\n",
      "after: 20000\n",
      "before: 20000\n",
      "after: 20000\n",
      "before: 20000\n",
      "after: 20000\n",
      "before: 20000\n",
      "after: 20000\n",
      "before: 20000\n",
      "after: 20000\n"
     ]
    }
   ],
   "source": [
    "\n",
    "balance = Value('i', 20000)\n",
    "\n",
    "simple_lock = SimpleLock()\n",
    "\n",
    "def deposit(amount):\n",
    "    \"\"\"\n",
    "    param amount: amount of money to be deposit\n",
    "    \"\"\"\n",
    "    global balance\n",
    "    with simple_lock:\n",
    "        balance.value = balance.value + amount\n",
    "\n",
    "def withdraw(amount):\n",
    "    \"\"\"\n",
    "    param amount: amount of money to be withdraw\n",
    "    \"\"\"\n",
    "    global balance\n",
    "    with simple_lock:\n",
    "        balance.value = balance.value - amount\n",
    "\n",
    "def deposit_task(amount, times):\n",
    "    \"\"\"\n",
    "    param amount: amount of money to be deposit\n",
    "    param times: number of transactions\n",
    "    \"\"\"\n",
    "    global balance\n",
    "    for _ in range(times):\n",
    "        deposit(amount)\n",
    "    \n",
    "def withdraw_task(amount, times):\n",
    "    \"\"\"\n",
    "    param amount: amount of moeny to be withdraw\n",
    "    param times: number of transactions\n",
    "    \"\"\"\n",
    "    global balance\n",
    "    for _ in range(times):\n",
    "        withdraw(amount)\n",
    "    \n",
    "def with_example():\n",
    "    global balance\n",
    "    \n",
    "    # 4 workers\n",
    "    # -- 2 workers doing deposit jobs\n",
    "    # ---- each worker deposit $10 500 times \n",
    "    # -- 2 workers doing withdraw jobs\n",
    "    # ---- each worker withdraw $10 500 times\n",
    "    # total of $10,000 deposit and $10,000 withdrawal\n",
    "    # logically, expect the balance to stay the same ($20,000)\n",
    "    # after all deposit and withdraw\n",
    "    times = [500, 500]\n",
    "    amount = [10, 10]\n",
    "    \n",
    "    print(f'before: {balance.value}')\n",
    "    # Use two cores to deposit and two cores to withdraw\n",
    "    with Pool(2) as pd, Pool(2) as pw:\n",
    "        pd.starmap(deposit_task, zip(amount, times))\n",
    "        pw.starmap(withdraw_task, zip(amount, times))\n",
    "    print(f'after: {balance.value}')\n",
    "\n",
    "# test the result 5 times\n",
    "for _ in range(5):\n",
    "    with_example()\n",
    "    "
   ]
  },
  {
   "cell_type": "markdown",
   "metadata": {},
   "source": [
    "### Is Lock necessary in Python threading module even there's already a GIL?"
   ]
  },
  {
   "cell_type": "markdown",
   "metadata": {},
   "source": [
    "YES.\n",
    "\n",
    "The GIL only guarantees that the interpreter would not go wrong because of multithreading and that python code of the same process is executed sequentially. It does **NOT** protect your code when you have a read-modify-write function running in your thread that modifies the shared in-memory data. "
   ]
  },
  {
   "cell_type": "code",
   "execution_count": 38,
   "metadata": {},
   "outputs": [
    {
     "name": "stdout",
     "output_type": "stream",
     "text": [
      "-------------------------\n",
      "--- Unsafe Example ---\n",
      "total balanced: 668617 \n",
      "expected balance: 800000\n",
      "--- Safe Example ---\n",
      "total balanced: 800000 \n",
      "expected balance: 800000\n",
      "-------------------------\n",
      "--- Unsafe Example ---\n",
      "total balanced: 734083 \n",
      "expected balance: 800000\n",
      "--- Safe Example ---\n",
      "total balanced: 800000 \n",
      "expected balance: 800000\n",
      "-------------------------\n",
      "--- Unsafe Example ---\n",
      "total balanced: 800000 \n",
      "expected balance: 800000\n",
      "--- Safe Example ---\n",
      "total balanced: 800000 \n",
      "expected balance: 800000\n",
      "-------------------------\n",
      "--- Unsafe Example ---\n",
      "total balanced: 695088 \n",
      "expected balance: 800000\n",
      "--- Safe Example ---\n",
      "total balanced: 800000 \n",
      "expected balance: 800000\n",
      "-------------------------\n",
      "--- Unsafe Example ---\n",
      "total balanced: 800000 \n",
      "expected balance: 800000\n",
      "--- Safe Example ---\n",
      "total balanced: 800000 \n",
      "expected balance: 800000\n"
     ]
    }
   ],
   "source": [
    "import threading\n",
    "\n",
    "balance = 0\n",
    "lock = threading.Lock()\n",
    "\n",
    "def deposit_n_times(n):\n",
    "    global balance\n",
    "    for i in range(n):\n",
    "        balance += 1\n",
    "\n",
    "def safe_deposit_n_times(n):\n",
    "    global balance\n",
    "    for i in range(n):\n",
    "        lock.acquire()\n",
    "        balance += 1\n",
    "        lock.release()\n",
    "\n",
    "def deposit_in_x_threads(x, func, n):\n",
    "    threads = [threading.Thread(target=func, args=(n,)) for _ in range(x)]\n",
    "    global balance\n",
    "    balance = 0\n",
    "    \n",
    "    for thread in threads:\n",
    "        thread.start()\n",
    "    for thread in threads:\n",
    "        thread.join()\n",
    "    print(f'total balanced: {balance} \\nexpected balance: {n*x}')\n",
    "\n",
    "for _ in range(5):\n",
    "    print(25*'-')\n",
    "    print('--- Unsafe Example ---')\n",
    "    deposit_in_x_threads(8, deposit_n_times, 100000)\n",
    "    print('--- Safe Example ---')\n",
    "    deposit_in_x_threads(8, safe_deposit_n_times, 100000)"
   ]
  }
 ],
 "metadata": {
  "kernelspec": {
   "display_name": "Python 3",
   "language": "python",
   "name": "python3"
  },
  "language_info": {
   "codemirror_mode": {
    "name": "ipython",
    "version": 3
   },
   "file_extension": ".py",
   "mimetype": "text/x-python",
   "name": "python",
   "nbconvert_exporter": "python",
   "pygments_lexer": "ipython3",
   "version": "3.6.4"
  }
 },
 "nbformat": 4,
 "nbformat_minor": 2
}
