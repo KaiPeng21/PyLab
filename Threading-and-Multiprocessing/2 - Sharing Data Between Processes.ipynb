{
 "cells": [
  {
   "cell_type": "markdown",
   "metadata": {},
   "source": [
    "### Sharing Data Between Processes"
   ]
  },
  {
   "cell_type": "markdown",
   "metadata": {},
   "source": [
    "The example below shows that processes use different address space. The <i>result</i> variable is not changed in the main process, but only within the <i>calc_square</i> function in the subprocess."
   ]
  },
  {
   "cell_type": "code",
   "execution_count": 26,
   "metadata": {},
   "outputs": [],
   "source": [
    "from multiprocessing import Process, Array, Value, Queue, Manager\n"
   ]
  },
  {
   "cell_type": "code",
   "execution_count": 13,
   "metadata": {},
   "outputs": [
    {
     "name": "stdout",
     "output_type": "stream",
     "text": [
      "inside process: [4, 9, 16, 25, 64, 361]\n",
      "outside process: []\n"
     ]
    }
   ],
   "source": [
    "result = []\n",
    "\n",
    "def calc_square(numbers):\n",
    "    global result\n",
    "    for n in numbers:\n",
    "        result.append(n*n)\n",
    "    print(f'inside process: {str(result)}')\n",
    "    \n",
    "def demo_without_shared_memory():\n",
    "    numbers = [2, 3, 4, 5, 8, 19]\n",
    "    p = Process(target=calc_square, args=(numbers,))\n",
    "    p.start()\n",
    "    p.join()\n",
    "    print(f'outside process: {str(result)}')\n",
    "    \n",
    "demo_without_shared_memory()\n"
   ]
  },
  {
   "cell_type": "markdown",
   "metadata": {},
   "source": [
    "#### Shared Data using Array"
   ]
  },
  {
   "cell_type": "code",
   "execution_count": 20,
   "metadata": {},
   "outputs": [
    {
     "name": "stdout",
     "output_type": "stream",
     "text": [
      "inside process: [4, 9, 16, 25, 64, 361]\n",
      "outside process: [4, 9, 16, 25, 64, 361]\n"
     ]
    }
   ],
   "source": [
    "def calc_square_using_array(numbers, result):\n",
    "    for ind, n in enumerate(numbers):\n",
    "        result[ind] = n*n\n",
    "    print(f'inside process: {result[:]}')\n",
    "\n",
    "def demo_shared_data_using_array():\n",
    "    \n",
    "    numbers = [2, 3, 4, 5, 8, 19]\n",
    "    \n",
    "    # create an array of integers with size len(numbers)\n",
    "    # and pass it to the process args\n",
    "    result = Array('i', len(numbers)) \n",
    "    p = Process(target=calc_square_using_array, args=(numbers, result,))\n",
    "    p.start()\n",
    "    p.join()\n",
    "    print(f'outside process: {result[:]}')\n",
    "\n",
    "demo_shared_data_using_array()"
   ]
  },
  {
   "cell_type": "markdown",
   "metadata": {},
   "source": [
    "#### Shared Data using Value"
   ]
  },
  {
   "cell_type": "code",
   "execution_count": 21,
   "metadata": {},
   "outputs": [
    {
     "name": "stdout",
     "output_type": "stream",
     "text": [
      "value inside process: 11.24\n",
      "value outside process: 11.24\n"
     ]
    }
   ],
   "source": [
    "\n",
    "def foo(val):\n",
    "    val.value = 11.24\n",
    "    print(f'value inside process: {val.value}')\n",
    "    \n",
    "def demo_shared_data_using_value():\n",
    "    val = Value('d', 3.14)\n",
    "    p = Process(target=foo, args=(val,))\n",
    "    p.start()\n",
    "    p.join()\n",
    "    print(f'value outside process: {val.value}')\n",
    "    \n",
    "demo_shared_data_using_value()"
   ]
  },
  {
   "cell_type": "markdown",
   "metadata": {},
   "source": [
    "#### Shared Data using Queue"
   ]
  },
  {
   "cell_type": "markdown",
   "metadata": {},
   "source": [
    "Note that the queue from multiprocessing.Queue is different from the one in queue.Queue. The multiprocessing queue lives in **shared memory** and is used to share data between processes. The Queue from the queue module lives in in-process memory and is used to share data between threads."
   ]
  },
  {
   "cell_type": "code",
   "execution_count": 25,
   "metadata": {},
   "outputs": [
    {
     "name": "stdout",
     "output_type": "stream",
     "text": [
      "4 9 16 25 64 361 "
     ]
    }
   ],
   "source": [
    "def calc_square_using_queue(numbers, queue):\n",
    "    for number in numbers:\n",
    "        queue.put(number * number)\n",
    "\n",
    "def demo_shared_data_using_queue():\n",
    "    \n",
    "    numbers = [2, 3, 4, 5, 8, 19]\n",
    "    \n",
    "    queue = Queue()\n",
    "    p = Process(target=calc_square_using_queue, args=(numbers, queue,))\n",
    "    p.start()\n",
    "    p.join()\n",
    "    \n",
    "    while not queue.empty():\n",
    "        print(queue.get(), end=' ')\n",
    "\n",
    "demo_shared_data_using_queue()"
   ]
  },
  {
   "cell_type": "markdown",
   "metadata": {},
   "source": [
    "### Shared Data using Manager"
   ]
  },
  {
   "cell_type": "code",
   "execution_count": 28,
   "metadata": {},
   "outputs": [
    {
     "name": "stdout",
     "output_type": "stream",
     "text": [
      "dictionary within process: {'a': 10, 'b': 20, 'c': 30}\n",
      "dictionary outside process: {'a': 10, 'b': 20, 'c': 30}\n"
     ]
    }
   ],
   "source": [
    "def bar(dictionary):\n",
    "    dictionary['a'] = 10\n",
    "    dictionary['b'] = 20\n",
    "    dictionary['c'] = 30\n",
    "    print(f'dictionary within process: {dictionary}')\n",
    "    \n",
    "def demo_shared_data_using_manager():\n",
    "    \n",
    "    manager = Manager()\n",
    "    dictionary = manager.dict()\n",
    "    dictionary['a'] = 0\n",
    "    p = Process(target=bar, args=(dictionary,))\n",
    "    p.start()\n",
    "    p.join()\n",
    "    print(f'dictionary outside process: {dictionary}')\n",
    "    \n",
    "demo_shared_data_using_manager()"
   ]
  }
 ],
 "metadata": {
  "kernelspec": {
   "display_name": "Python 3",
   "language": "python",
   "name": "python3"
  },
  "language_info": {
   "codemirror_mode": {
    "name": "ipython",
    "version": 3
   },
   "file_extension": ".py",
   "mimetype": "text/x-python",
   "name": "python",
   "nbconvert_exporter": "python",
   "pygments_lexer": "ipython3",
   "version": "3.6.4"
  }
 },
 "nbformat": 4,
 "nbformat_minor": 2
}
