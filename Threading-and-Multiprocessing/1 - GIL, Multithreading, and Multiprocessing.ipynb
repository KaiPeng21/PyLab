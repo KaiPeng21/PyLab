{
 "cells": [
  {
   "cell_type": "markdown",
   "metadata": {},
   "source": [
    "# GIL, Multithreading, and Multiprocessing"
   ]
  },
  {
   "cell_type": "markdown",
   "metadata": {},
   "source": [
    "The Python **Global Interpreter Lock** or **GIL**, in simple words, is a lock that allows only one thread to take control of the python interpreter in CPython. This lock is necessary mainly because CPython's memory management is not thread-safe (Not the case for IronPython or Jython, the .NET and Java implementation for Python). GIL is infamous for affecting multi-threaded programming performance in Python because it only allows one thread in the same process to run Python code at a time. But it is a myths to claim that the Python threading class is useless and it is a myth to claim that Python threading only slows down the execution time. In some circumstances, Python threading does speed up the execution. Here we are going to look at how to properly handle threading in Python."
   ]
  },
  {
   "cell_type": "markdown",
   "metadata": {},
   "source": [
    "### Single Threaded Example"
   ]
  },
  {
   "cell_type": "markdown",
   "metadata": {},
   "source": [
    "First, let's see an example how we computed the square and the cube for a list of numbers using a single thread. Here I am using **timer.sleep** function to demonstrate in which scenario multithread can be useful. \n"
   ]
  },
  {
   "cell_type": "code",
   "execution_count": 2,
   "metadata": {},
   "outputs": [],
   "source": [
    "from utils.timer import DecoTimer\n",
    "import time\n",
    "\n",
    "def calc_square(arr):\n",
    "    print(\"calculate square of numbers\")\n",
    "    for n in arr:\n",
    "        time.sleep(0.2)\n",
    "        print(f'square: {n*n}')\n",
    "        \n",
    "def calc_cube(arr):\n",
    "    print(\"calculate cube of numbers\")\n",
    "    for n in arr:\n",
    "        time.sleep(0.2)\n",
    "        print(f'cube: {n*n*n}')"
   ]
  },
  {
   "cell_type": "code",
   "execution_count": 3,
   "metadata": {},
   "outputs": [
    {
     "name": "stdout",
     "output_type": "stream",
     "text": [
      ">>>>Starting Function Testing Single Threaded...\n",
      "calculate square of numbers\n",
      "square: 4\n",
      "square: 16\n",
      "square: 64\n",
      "square: 81\n",
      "calculate cube of numbers\n",
      "cube: 8\n",
      "cube: 64\n",
      "cube: 512\n",
      "cube: 729\n",
      "<<Finished function Testing Single Threaded in 1.628377914428711 seconds\n"
     ]
    }
   ],
   "source": [
    "arr = [2, 4, 8, 9]\n",
    "\n",
    "with DecoTimer(\"Testing Single Threaded\"):\n",
    "    calc_square(arr)\n",
    "    calc_cube(arr)"
   ]
  },
  {
   "cell_type": "markdown",
   "metadata": {},
   "source": [
    "Here you can see the overall runtime is just about 1.6 seconds."
   ]
  },
  {
   "cell_type": "markdown",
   "metadata": {},
   "source": [
    "### Multithreading Example"
   ]
  },
  {
   "cell_type": "markdown",
   "metadata": {},
   "source": [
    "Now, let's try to run the square and cube computation in seperate threads."
   ]
  },
  {
   "cell_type": "code",
   "execution_count": 4,
   "metadata": {},
   "outputs": [
    {
     "name": "stdout",
     "output_type": "stream",
     "text": [
      ">>>>Starting Function Testing Multithreaded Example...\n",
      "calculate square of numbers\n",
      "calculate cube of numbers\n",
      "square: 4\n",
      "cube: 8\n",
      "square: 16\n",
      "cube: 64\n",
      "square: 64cube: 512\n",
      "\n",
      "square: 81\n",
      "cube: 729\n",
      "<<Finished function Testing Multithreaded Example in 0.8118569850921631 seconds\n"
     ]
    }
   ],
   "source": [
    "from threading import Thread\n",
    "\n",
    "with DecoTimer(\"Testing Multithreaded Example\"):\n",
    "    t1 = Thread(target=calc_square, args=(arr,))\n",
    "    t2 = Thread(target=calc_cube, args=(arr,))\n",
    "    \n",
    "    # Running square and cube in seperate thread\n",
    "    t1.start()\n",
    "    t2.start()\n",
    "    \n",
    "    # Wait till t1 and t2 completes\n",
    "    t1.join()\n",
    "    t2.join()\n",
    "    "
   ]
  },
  {
   "cell_type": "markdown",
   "metadata": {},
   "source": [
    "Note that the multithreading example actually speeds up the computatiom by about 0.8 seconds, which makes the process almost two times faster than the single-threaded example. But, doesn't GIL only allow one thread running at a time? How does multithreading actually speed up the execution? Let's see another single threaded vs multi threaded example, but this time we use a long for-loop to replace the **time.sleep** functions."
   ]
  },
  {
   "cell_type": "code",
   "execution_count": 9,
   "metadata": {},
   "outputs": [],
   "source": [
    "def calc_square_cpu_bounded(arr):\n",
    "    print(\"calculate square of numbers\")\n",
    "    for n in arr:\n",
    "        for _ in range(8000000): # use a loop instead of timer.sleep\n",
    "            pass\n",
    "        print(f'square: {n*n}')\n",
    "        \n",
    "def calc_cube_cpu_bounded(arr):\n",
    "    print(\"calculate cube of numbers\")\n",
    "    for n in arr:\n",
    "        for _ in range(8000000):\n",
    "            pass\n",
    "        print(f'cube: {n*n*n}')"
   ]
  },
  {
   "cell_type": "code",
   "execution_count": 10,
   "metadata": {},
   "outputs": [
    {
     "name": "stdout",
     "output_type": "stream",
     "text": [
      ">>>>Starting Function Testing Single Threaded without timer.sleep...\n",
      "calculate square of numbers\n",
      "square: 4\n",
      "square: 16\n",
      "square: 64\n",
      "square: 81\n",
      "calculate cube of numbers\n",
      "cube: 8\n",
      "cube: 64\n",
      "cube: 512\n",
      "cube: 729\n",
      "<<Finished function Testing Single Threaded without timer.sleep in 1.9267339706420898 seconds\n"
     ]
    }
   ],
   "source": [
    "with DecoTimer(\"Testing Single Threaded without timer.sleep\"):\n",
    "    calc_square_cpu_bounded(arr)\n",
    "    calc_cube_cpu_bounded(arr)"
   ]
  },
  {
   "cell_type": "code",
   "execution_count": 8,
   "metadata": {},
   "outputs": [
    {
     "name": "stdout",
     "output_type": "stream",
     "text": [
      ">>>>Starting Function Testing Multithreaded Example without timer.sleep...\n",
      "calculate square of numbers\n",
      "calculate cube of numbers\n",
      "square: 4cube: 8\n",
      "\n",
      "square: 16\n",
      "cube: 64\n",
      "square: 64\n",
      "cube: 512\n",
      "square: 81\n",
      "cube: 729\n",
      "<<Finished function Testing Multithreaded Example without timer.sleep in 2.0313053131103516 seconds\n"
     ]
    }
   ],
   "source": [
    "with DecoTimer(\"Testing Multithreaded Example without timer.sleep\"):\n",
    "    t1 = Thread(target=calc_square_cpu_bounded, args=(arr,))\n",
    "    t2 = Thread(target=calc_cube_cpu_bounded, args=(arr,))\n",
    "    \n",
    "    # Running square and cube in seperate thread\n",
    "    t1.start()\n",
    "    t2.start()\n",
    "    \n",
    "    # Wait till t1 and t2 completes\n",
    "    t1.join()\n",
    "    t2.join()"
   ]
  },
  {
   "cell_type": "markdown",
   "metadata": {},
   "source": [
    "Notice that the multithreaded example here did not really speed up the execution, but actually performed slightly worse than the single threaded example. This is because the delay loop we used in this example is more CPU hungry and GIL needs to be frequently acquired. The **timer.sleep** function, on the other hand, can release the GIL for full dealy, enabling the other thread to acuire the lock and continue its computation."
   ]
  },
  {
   "cell_type": "markdown",
   "metadata": {},
   "source": [
    "The **I/O Bounded** tasks or tasks involving external systems behave more similar to functions with timer.sleep, and therefore threads can combine their work more efficiently. However, CPython threads provides no benefit for CPU intensive tasks because of the GIL."
   ]
  },
  {
   "cell_type": "markdown",
   "metadata": {},
   "source": [
    "### Multiprocessing Example"
   ]
  },
  {
   "cell_type": "markdown",
   "metadata": {},
   "source": [
    "#### Thread vs Process\n",
    "\n",
    "Both threads and processes are independent sequence of execution. The main difference is that threads of the same process run in a shared memory space, where as processes run in isolated memory space. "
   ]
  },
  {
   "cell_type": "markdown",
   "metadata": {},
   "source": [
    "The threading module uses threads, and the multiprocessing module uses processes. The difference is that threads run in the same memory space, while processes have separate memory. This makes it a bit harder to share objects between processes with multiprocessing. Since threads use the same memory, precautions have to be taken or two threads will write to the same memory at the same time. This is what the global interpreter lock is for."
   ]
  },
  {
   "cell_type": "markdown",
   "metadata": {},
   "source": [
    "Let's see how the multiprocessing example performs on the square and cube tasks."
   ]
  },
  {
   "cell_type": "code",
   "execution_count": 11,
   "metadata": {},
   "outputs": [
    {
     "name": "stdout",
     "output_type": "stream",
     "text": [
      ">>>>Starting Function Testing Multiprocessing Example...\n",
      "calculate square of numbers\n",
      "calculate cube of numbers\n",
      "square: 4\n",
      "cube: 8\n",
      "square: 16\n",
      "cube: 64\n",
      "square: 64\n",
      "cube: 512\n",
      "square: 81\n",
      "cube: 729\n",
      "<<Finished function Testing Multiprocessing Example in 0.8436489105224609 seconds\n"
     ]
    }
   ],
   "source": [
    "from multiprocessing import Process\n",
    "with DecoTimer(\"Testing Multiprocessing Example\"):\n",
    "    p1 = Process(target=calc_square, args=(arr,))\n",
    "    p2 = Process(target=calc_cube, args=(arr,))\n",
    "    \n",
    "    # Running square and cube in seperate processes\n",
    "    p1.start()\n",
    "    p2.start()\n",
    "    \n",
    "    p1.join()\n",
    "    p2.join()"
   ]
  },
  {
   "cell_type": "markdown",
   "metadata": {},
   "source": [
    "The execution time is about half of the single threaded (1.6 seconds) example."
   ]
  },
  {
   "cell_type": "code",
   "execution_count": 12,
   "metadata": {},
   "outputs": [
    {
     "name": "stdout",
     "output_type": "stream",
     "text": [
      ">>>>Starting Function Testing Multiprocessing Example without timer.sleep...\n",
      "calculate square of numbers\n",
      "calculate cube of numbers\n",
      "cube: 8\n",
      "square: 4\n",
      "cube: 64\n",
      "square: 16\n",
      "cube: 512\n",
      "square: 64\n",
      "cube: 729\n",
      "square: 81\n",
      "<<Finished function Testing Multiprocessing Example without timer.sleep in 1.0965428352355957 seconds\n"
     ]
    }
   ],
   "source": [
    "from multiprocessing import Process\n",
    "with DecoTimer(\"Testing Multiprocessing Example without timer.sleep\"):\n",
    "    p1 = Process(target=calc_square_cpu_bounded, args=(arr,))\n",
    "    p2 = Process(target=calc_cube_cpu_bounded, args=(arr,))\n",
    "    \n",
    "    # Running square and cube in seperate processes\n",
    "    p1.start()\n",
    "    p2.start()\n",
    "    \n",
    "    p1.join()\n",
    "    p2.join()"
   ]
  },
  {
   "cell_type": "markdown",
   "metadata": {},
   "source": [
    "The execution time for a CPU bounded task is also about half of the single threaded example."
   ]
  },
  {
   "cell_type": "markdown",
   "metadata": {},
   "source": [
    "#### Memory Space Comparison"
   ]
  },
  {
   "cell_type": "code",
   "execution_count": 16,
   "metadata": {},
   "outputs": [
    {
     "name": "stdout",
     "output_type": "stream",
     "text": [
      ">>>>Starting Function Multithreading Example...\n",
      "square_result within calc_square_global function:  [4, 16, 64, 81]\n",
      "square_result outside calc_square_global function:  [4, 16, 64, 81]\n",
      "<<Finished function Multithreading Example in 0.8124549388885498 seconds\n"
     ]
    }
   ],
   "source": [
    "square_result = []\n",
    "\n",
    "def calc_square_global(arr):\n",
    "    global square_result\n",
    "    for n in arr:\n",
    "        time.sleep(0.2)\n",
    "        square_result.append(n * n)\n",
    "    print('square_result within calc_square_global function: ', square_result)\n",
    "\n",
    "with DecoTimer(\"Multithreading Example\"):\n",
    "    t = Thread(target=calc_square_global, args=(arr,))\n",
    "    t.start()\n",
    "    t.join()\n",
    "    print('square_result outside calc_square_global function: ', square_result)\n",
    "    \n"
   ]
  },
  {
   "cell_type": "code",
   "execution_count": 17,
   "metadata": {
    "scrolled": true
   },
   "outputs": [
    {
     "name": "stdout",
     "output_type": "stream",
     "text": [
      ">>>>Starting Function Multiprocessing Example...\n",
      "cube_result within calc_cube_global function:  [8, 64, 512, 729]\n",
      "cube_result outside calc_cube_global function:  []\n",
      "<<Finished function Multiprocessing Example in 0.8199930191040039 seconds\n"
     ]
    }
   ],
   "source": [
    "cube_result = []\n",
    "\n",
    "def calc_cube_global(arr):\n",
    "    global cube_result\n",
    "    for n in arr:\n",
    "        time.sleep(0.2)\n",
    "        cube_result.append(n * n * n)\n",
    "        \n",
    "    print('cube_result within calc_cube_global function: ', cube_result)\n",
    "    \n",
    "with DecoTimer(\"Multiprocessing Example\"):\n",
    "    p = Process(target=calc_cube_global, args=(arr,))\n",
    "    p.start()\n",
    "    p.join()\n",
    "    print('cube_result outside calc_cube_global function: ', cube_result)"
   ]
  },
  {
   "cell_type": "markdown",
   "metadata": {},
   "source": [
    "Here you can see multithreading uses a shared memory space and the global variable is modified. The multiprocessing module, on the other hand, runs the process in a sperate memory space, and only updates a copy of the global variable in an isolated space from the main process."
   ]
  },
  {
   "cell_type": "markdown",
   "metadata": {},
   "source": [
    "In the next module, I wan to demonstrate more examples on multithreading and multiprocessing. Then, I will introduce how to share data between processes using Value, Array, and Queue."
   ]
  }
 ],
 "metadata": {
  "kernelspec": {
   "display_name": "Python 3",
   "language": "python",
   "name": "python3"
  },
  "language_info": {
   "codemirror_mode": {
    "name": "ipython",
    "version": 3
   },
   "file_extension": ".py",
   "mimetype": "text/x-python",
   "name": "python",
   "nbconvert_exporter": "python",
   "pygments_lexer": "ipython3",
   "version": "3.6.4"
  }
 },
 "nbformat": 4,
 "nbformat_minor": 2
}
