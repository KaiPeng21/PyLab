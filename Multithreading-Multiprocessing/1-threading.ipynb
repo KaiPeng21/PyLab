{
 "cells": [
  {
   "cell_type": "markdown",
   "metadata": {},
   "source": [
    "# GIL, Multithreading, and Multiprocessing"
   ]
  },
  {
   "cell_type": "markdown",
   "metadata": {},
   "source": [
    "The Python **Global Interpreter Lock** or **GIL**, in simple words, is a lock that allows only one thread to take control of the python interpreter in CPython. This lock is necessary mainly because CPython's memory management is not thread-safe (Not the case for IronPython or Jython, the .NET and Java implementation for Python). GIL is infamous for affecting multi-threaded programming in Python. But it is a myths to claim that the Python threading class is useless or it only slow down the execution time. In some circumstances, Python threading does speed up the process. Here we are going to look at how to properly handle threading in Python."
   ]
  },
  {
   "cell_type": "markdown",
   "metadata": {},
   "source": [
    "### Single Threaded Example"
   ]
  },
  {
   "cell_type": "markdown",
   "metadata": {},
   "source": [
    "First, let's see an example how we computed the square and the cube for a list of numbers using a single thread. Here I am using **timer.sleep** function to demonstrate in which scenario multithread can be useful. \n"
   ]
  },
  {
   "cell_type": "code",
   "execution_count": 31,
   "metadata": {},
   "outputs": [],
   "source": [
    "from utils.timer import DecoTimer\n",
    "import time\n",
    "\n",
    "def calc_square(arr):\n",
    "    print(\"calculate square of numbers\")\n",
    "    for n in arr:\n",
    "        time.sleep(0.2)\n",
    "        print(f'square: {n*n}')\n",
    "        \n",
    "def calc_cube(arr):\n",
    "    print(\"calculate cube of numbers\")\n",
    "    for n in arr:\n",
    "        time.sleep(0.2)\n",
    "        print(f'cube: {n*n*n}')"
   ]
  },
  {
   "cell_type": "code",
   "execution_count": 32,
   "metadata": {},
   "outputs": [
    {
     "name": "stdout",
     "output_type": "stream",
     "text": [
      ">>>>Starting Function Testing Single Threaded...\n",
      "calculate square of numbers\n",
      "square: 4\n",
      "square: 16\n",
      "square: 64\n",
      "square: 81\n",
      "calculate cube of numbers\n",
      "cube: 8\n",
      "cube: 64\n",
      "cube: 512\n",
      "cube: 729\n",
      "<<Finished function Testing Single Threaded in 1.6371750831604004 seconds\n"
     ]
    }
   ],
   "source": [
    "arr = [2, 4, 8, 9]\n",
    "\n",
    "with DecoTimer(\"Testing Single Threaded\"):\n",
    "    calc_square(arr)\n",
    "    calc_cube(arr)"
   ]
  },
  {
   "cell_type": "markdown",
   "metadata": {},
   "source": [
    "Here you can see the overall runtime is just about 1.6 seconds."
   ]
  },
  {
   "cell_type": "markdown",
   "metadata": {},
   "source": [
    "### Multithreading Example"
   ]
  },
  {
   "cell_type": "markdown",
   "metadata": {},
   "source": [
    "Now, let's try to run the square and cube computation in seperate threads."
   ]
  },
  {
   "cell_type": "code",
   "execution_count": 33,
   "metadata": {},
   "outputs": [
    {
     "name": "stdout",
     "output_type": "stream",
     "text": [
      ">>>>Starting Function Testing Multithreaded Example...\n",
      "calculate square of numbers\n",
      "calculate cube of numbers\n",
      "square: 4\n",
      "cube: 8\n",
      "square: 16\n",
      "cube: 64\n",
      "square: 64\n",
      "cube: 512\n",
      "square: 81\n",
      "cube: 729\n",
      "<<Finished function Testing Multithreaded Example in 0.8119800090789795 seconds\n"
     ]
    }
   ],
   "source": [
    "from threading import Thread\n",
    "\n",
    "with DecoTimer(\"Testing Multithreaded Example\"):\n",
    "    t1 = Thread(target=calc_square, args=(arr,))\n",
    "    t2 = Thread(target=calc_cube, args=(arr,))\n",
    "    \n",
    "    # Running square and cube in seperate thread\n",
    "    t1.start()\n",
    "    t2.start()\n",
    "    \n",
    "    # Wait till t1 and t2 completes\n",
    "    t1.join()\n",
    "    t2.join()\n",
    "    "
   ]
  },
  {
   "cell_type": "markdown",
   "metadata": {},
   "source": [
    "Note that the multithreading example actually speeds up the computatiom by about 0.8 seconds, which makes the process almost two times faster than the single-threaded example. But, doesn't GIL only allow one thread running at a time? How does multithreading actually speeds up the execution? Let's see another single threaded vs multi threaded example, but this time we use a long loop to replace the **time.sleep** functions."
   ]
  },
  {
   "cell_type": "code",
   "execution_count": 34,
   "metadata": {},
   "outputs": [],
   "source": [
    "def calc_square_cpu_bounded(arr):\n",
    "    print(\"calculate square of numbers\")\n",
    "    for n in arr:\n",
    "        for _ in range(8000000):\n",
    "            pass\n",
    "        print(f'square: {n*n}')\n",
    "        \n",
    "def calc_cube_cpu_bounded(arr):\n",
    "    print(\"calculate cube of numbers\")\n",
    "    for n in arr:\n",
    "        for _ in range(8000000):\n",
    "            pass\n",
    "        print(f'cube: {n*n*n}')"
   ]
  },
  {
   "cell_type": "code",
   "execution_count": 44,
   "metadata": {},
   "outputs": [
    {
     "name": "stdout",
     "output_type": "stream",
     "text": [
      ">>>>Starting Function Testing Single Threaded without timer.sleep...\n",
      "calculate square of numbers\n",
      "square: 4\n",
      "square: 16\n",
      "square: 64\n",
      "square: 81\n",
      "calculate cube of numbers\n",
      "cube: 8\n",
      "cube: 64\n",
      "cube: 512\n",
      "cube: 729\n",
      "<<Finished function Testing Single Threaded without timer.sleep in 1.8836450576782227 seconds\n"
     ]
    }
   ],
   "source": [
    "with DecoTimer(\"Testing Single Threaded without timer.sleep\"):\n",
    "    calc_square_cpu_bounded(arr)\n",
    "    calc_cube_cpu_bounded(arr)"
   ]
  },
  {
   "cell_type": "code",
   "execution_count": 43,
   "metadata": {},
   "outputs": [
    {
     "name": "stdout",
     "output_type": "stream",
     "text": [
      ">>>>Starting Function Testing Multithreaded Example without timer.sleep...\n",
      "calculate square of numbers\n",
      "calculate cube of numbers\n",
      "square: 4\n",
      "cube: 8\n",
      "square: 16\n",
      "cube: 64\n",
      "square: 64\n",
      "cube: 512\n",
      "square: 81\n",
      "cube: 729\n",
      "<<Finished function Testing Multithreaded Example without timer.sleep in 1.9724102020263672 seconds\n"
     ]
    }
   ],
   "source": [
    "with DecoTimer(\"Testing Multithreaded Example without timer.sleep\"):\n",
    "    t1 = Thread(target=calc_square_cpu_bounded, args=(arr,))\n",
    "    t2 = Thread(target=calc_cube_cpu_bounded, args=(arr,))\n",
    "    \n",
    "    # Running square and cube in seperate thread\n",
    "    t1.start()\n",
    "    t2.start()\n",
    "    \n",
    "    # Wait till t1 and t2 completes\n",
    "    t1.join()\n",
    "    t2.join()"
   ]
  },
  {
   "cell_type": "markdown",
   "metadata": {},
   "source": [
    "Notice that the multithreaded example here did not really speed up the execution, but it might actually performs slightly worse than the single threaded example. This is because the delay loop we used in this example is more CPU hungry and GIL needs to be frequently acquired. The **timer.sleep** function, on the other hand, can release the GIL for full dealy, enabling the other thread to acuire the lock and continue its computation."
   ]
  },
  {
   "cell_type": "markdown",
   "metadata": {},
   "source": [
    "The **I/O Bounded** tasks or tasks involving external systems behave more similar to functions with timer.sleep, and therefore threads can combine their work more efficiently. However, CPython threads provides no benefit for CPU intensive tasks because of the GIL."
   ]
  },
  {
   "cell_type": "code",
   "execution_count": null,
   "metadata": {},
   "outputs": [],
   "source": []
  }
 ],
 "metadata": {
  "kernelspec": {
   "display_name": "Python 3",
   "language": "python",
   "name": "python3"
  },
  "language_info": {
   "codemirror_mode": {
    "name": "ipython",
    "version": 3
   },
   "file_extension": ".py",
   "mimetype": "text/x-python",
   "name": "python",
   "nbconvert_exporter": "python",
   "pygments_lexer": "ipython3",
   "version": "3.6.4"
  }
 },
 "nbformat": 4,
 "nbformat_minor": 2
}
