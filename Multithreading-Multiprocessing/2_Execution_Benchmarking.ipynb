{
 "cells": [
  {
   "cell_type": "markdown",
   "metadata": {},
   "source": [
    "# Execution Benchmarking\n",
    "\n",
    "In this module, we will look at how threading and multiprocesses perform on multiple differnt tasks."
   ]
  },
  {
   "cell_type": "code",
   "execution_count": 1,
   "metadata": {},
   "outputs": [],
   "source": [
    "from utils.timer import DecoTimer\n",
    "\n",
    "import os\n",
    "import requests\n",
    "import uuid\n",
    "from queue import Queue\n",
    "import logging\n",
    "\n",
    "from threading import Thread\n",
    "from multiprocessing.pool import Pool\n"
   ]
  },
  {
   "cell_type": "code",
   "execution_count": 2,
   "metadata": {},
   "outputs": [],
   "source": [
    "logging.basicConfig(level=logging.INFO)\n",
    "logger = logging.getLogger(__name__)"
   ]
  },
  {
   "cell_type": "markdown",
   "metadata": {},
   "source": [
    "### 1. Download Images"
   ]
  },
  {
   "cell_type": "code",
   "execution_count": 3,
   "metadata": {},
   "outputs": [],
   "source": [
    "num_of_pics = 20\n",
    "image_endpoints = [f'https://picsum.photos/800/800?image={i}' for i in range(num_of_pics)]\n",
    "filenames = [str(uuid.uuid4())[:8] for _ in range(num_of_pics)]\n",
    "\n",
    "def download_image(image_url, filename):\n",
    "    # Set stream to True to prevent the requests library suck memory \n",
    "    # and stays around 30kb regardless size of the download file\n",
    "    img_data = requests.get(image_url, stream = True, headers={'Cache-Control': 'no-cache'}).content\n",
    "    with open(f'images/{filename}.bmp', 'wb') as handler:\n",
    "        handler.write(img_data)\n",
    "        logger.info(f'writing {filename}')\n",
    "\n",
    "def create_image_dir():\n",
    "    os.system(\"mkdir -p images\")\n",
    "\n",
    "def remove_images():\n",
    "    os.system(\"rm images/*\")\n",
    "\n",
    "download_dir = create_image_dir()"
   ]
  },
  {
   "cell_type": "markdown",
   "metadata": {},
   "source": [
    "#### 1. 1 Single Threaded"
   ]
  },
  {
   "cell_type": "code",
   "execution_count": 5,
   "metadata": {
    "scrolled": true
   },
   "outputs": [
    {
     "name": "stdout",
     "output_type": "stream",
     "text": [
      ">>>>Starting Function Download Image - Single Thread...\n"
     ]
    },
    {
     "name": "stderr",
     "output_type": "stream",
     "text": [
      "INFO:__main__:writing 2d65d646\n",
      "INFO:__main__:writing 3c72af7b\n",
      "INFO:__main__:writing a78d53a0\n",
      "INFO:__main__:writing 6b145f94\n",
      "INFO:__main__:writing a6b52912\n",
      "INFO:__main__:writing a1343615\n",
      "INFO:__main__:writing 234ade86\n",
      "INFO:__main__:writing 9d50f75b\n",
      "INFO:__main__:writing 22cc0a70\n",
      "INFO:__main__:writing 1946a05d\n",
      "INFO:__main__:writing 74cced27\n",
      "INFO:__main__:writing ff786e05\n",
      "INFO:__main__:writing bb31b409\n",
      "INFO:__main__:writing 251e4326\n",
      "INFO:__main__:writing aa3d339d\n",
      "INFO:__main__:writing c11b37e8\n",
      "INFO:__main__:writing 2e2aafe1\n",
      "INFO:__main__:writing 66df0be7\n",
      "INFO:__main__:writing f5abd9a8\n",
      "INFO:__main__:writing 76dfca0b\n"
     ]
    },
    {
     "name": "stdout",
     "output_type": "stream",
     "text": [
      "<<Finished function Download Image - Single Thread in 20.550068140029907 seconds\n"
     ]
    }
   ],
   "source": [
    "\n",
    "with DecoTimer(\"Download Image - Single Thread\"):\n",
    "    for image_endpoint, filename in zip(image_endpoints, filenames):\n",
    "        download_image(image_endpoint, filename)        \n"
   ]
  },
  {
   "cell_type": "markdown",
   "metadata": {},
   "source": [
    "#### 1.2 Multithreading Example"
   ]
  },
  {
   "cell_type": "code",
   "execution_count": 15,
   "metadata": {},
   "outputs": [
    {
     "name": "stderr",
     "output_type": "stream",
     "text": [
      "INFO:__main__:writing 0b74dfed\n"
     ]
    },
    {
     "name": "stdout",
     "output_type": "stream",
     "text": [
      ">>>>Starting Function Download Image - Multithreading with 4 Workers...\n"
     ]
    },
    {
     "name": "stderr",
     "output_type": "stream",
     "text": [
      "INFO:__main__:writing 63a7c567\n",
      "INFO:__main__:writing 896f3cb8\n",
      "INFO:__main__:writing 6a4f4b62\n",
      "INFO:__main__:writing 62d4211d\n",
      "INFO:__main__:writing 12b75344\n",
      "INFO:__main__:writing 156b9285\n",
      "INFO:__main__:writing a5dab5f3\n",
      "INFO:__main__:writing a12089a8\n",
      "INFO:__main__:writing 64e84ef4\n",
      "INFO:__main__:writing 3927960b\n",
      "INFO:__main__:writing c654d4e9\n",
      "INFO:__main__:writing dadeaa9d\n",
      "INFO:__main__:writing 9c8ffd24\n",
      "INFO:__main__:writing b4bf86c2\n",
      "INFO:__main__:writing 1e8874b9\n",
      "INFO:__main__:writing 662e7747\n",
      "INFO:__main__:writing 17d1b34e\n",
      "INFO:__main__:writing 51061329\n",
      "INFO:__main__:writing 029844e0\n"
     ]
    },
    {
     "name": "stdout",
     "output_type": "stream",
     "text": [
      "<<Finished function Download Image - Multithreading with 4 Workers in 2.2167422771453857 seconds\n"
     ]
    }
   ],
   "source": [
    "class DownloadWorker(Thread):\n",
    "    \n",
    "    def __init__(self, queue):\n",
    "        Thread.__init__(self)\n",
    "        self.queue = queue # create a worker queue to pass in the image filename sequentially\n",
    "        \n",
    "    def run(self):\n",
    "        while True:\n",
    "            image_endpoint, filename = self.queue.get()\n",
    "            try:\n",
    "                download_image(image_endpoint, filename)\n",
    "            finally:\n",
    "                self.queue.task_done()\n",
    "\n",
    "with DecoTimer(\"Download Image - Multithreading with 4 Workers\"):\n",
    "    queue = Queue()\n",
    "    for x in range(4):\n",
    "        worker = DownloadWorker(queue)\n",
    "        worker.daemon = True # enable daemon to allow main thread exit even when workers are blocking\n",
    "        worker.start()\n",
    "    # send in filenames to workers from main thread\n",
    "    for image_endpoint, filename in zip(image_endpoints, filenames):\n",
    "        queue.put((image_endpoint, filename))\n",
    "    queue.join()"
   ]
  },
  {
   "cell_type": "markdown",
   "metadata": {},
   "source": [
    "#### 1.3 Multiprocessing Example"
   ]
  },
  {
   "cell_type": "code",
   "execution_count": 17,
   "metadata": {},
   "outputs": [
    {
     "name": "stdout",
     "output_type": "stream",
     "text": [
      ">>>>Starting Function Download Image - Multiprocessing with 4 Workers...\n"
     ]
    },
    {
     "name": "stderr",
     "output_type": "stream",
     "text": [
      "INFO:__main__:writing 12b75344\n",
      "INFO:__main__:writing 6a4f4b62\n",
      "INFO:__main__:writing 896f3cb8\n",
      "INFO:__main__:writing 62d4211d\n",
      "INFO:__main__:writing 0b74dfed\n",
      "INFO:__main__:writing a5dab5f3\n",
      "INFO:__main__:writing 156b9285\n",
      "INFO:__main__:writing dadeaa9d\n",
      "INFO:__main__:writing 64e84ef4\n",
      "INFO:__main__:writing 63a7c567\n",
      "INFO:__main__:writing c654d4e9\n",
      "INFO:__main__:writing a12089a8\n",
      "INFO:__main__:writing b4bf86c2\n",
      "INFO:__main__:writing 3927960b\n",
      "INFO:__main__:writing 662e7747\n",
      "INFO:__main__:writing 1e8874b9\n",
      "INFO:__main__:writing 51061329\n",
      "INFO:__main__:writing 9c8ffd24\n",
      "INFO:__main__:writing 029844e0\n",
      "INFO:__main__:writing 17d1b34e\n"
     ]
    },
    {
     "name": "stdout",
     "output_type": "stream",
     "text": [
      "<<Finished function Download Image - Multiprocessing with 4 Workers in 2.072489023208618 seconds\n"
     ]
    }
   ],
   "source": [
    "\n",
    "with DecoTimer(\"Download Image - Multiprocessing with 4 Workers\"):\n",
    "    args = list(zip(image_endpoints, filenames))\n",
    "    with Pool(4) as p:\n",
    "        p.starmap(download_image, args)\n"
   ]
  },
  {
   "cell_type": "markdown",
   "metadata": {},
   "source": [
    "### 2. Load Image and convert it to Numpy Array"
   ]
  },
  {
   "cell_type": "markdown",
   "metadata": {},
   "source": [
    "<i>Make sure you have the images downloaded in the images/ directory from the previous step.</i>"
   ]
  },
  {
   "cell_type": "code",
   "execution_count": 8,
   "metadata": {},
   "outputs": [],
   "source": [
    "from PIL import Image\n",
    "import numpy as np\n",
    "\n",
    "def image_read_as_nparray(filename):\n",
    "    image = Image.open(f'images/{filename}.bmp')\n",
    "    logger.info(f'loading image {filename}')\n",
    "    return np.array(image.getdata()).reshape(image.size[0], image.size[1], 3)"
   ]
  },
  {
   "cell_type": "markdown",
   "metadata": {},
   "source": [
    "#### 2.1 Single Threaded Example"
   ]
  },
  {
   "cell_type": "code",
   "execution_count": 9,
   "metadata": {},
   "outputs": [
    {
     "name": "stderr",
     "output_type": "stream",
     "text": [
      "INFO:__main__:loading image 2d65d646\n"
     ]
    },
    {
     "name": "stdout",
     "output_type": "stream",
     "text": [
      ">>>>Starting Function Loading Images and Convert it to Numpy Array - Single Threaded Example...\n"
     ]
    },
    {
     "name": "stderr",
     "output_type": "stream",
     "text": [
      "INFO:__main__:loading image 3c72af7b\n",
      "INFO:__main__:loading image a78d53a0\n",
      "INFO:__main__:loading image 6b145f94\n",
      "INFO:__main__:loading image a6b52912\n",
      "INFO:__main__:loading image a1343615\n",
      "INFO:__main__:loading image 234ade86\n",
      "INFO:__main__:loading image 9d50f75b\n",
      "INFO:__main__:loading image 22cc0a70\n",
      "INFO:__main__:loading image 1946a05d\n",
      "INFO:__main__:loading image 74cced27\n",
      "INFO:__main__:loading image ff786e05\n",
      "INFO:__main__:loading image bb31b409\n",
      "INFO:__main__:loading image 251e4326\n",
      "INFO:__main__:loading image aa3d339d\n",
      "INFO:__main__:loading image c11b37e8\n",
      "INFO:__main__:loading image 2e2aafe1\n",
      "INFO:__main__:loading image 66df0be7\n",
      "INFO:__main__:loading image f5abd9a8\n",
      "INFO:__main__:loading image 76dfca0b\n"
     ]
    },
    {
     "name": "stdout",
     "output_type": "stream",
     "text": [
      "<<Finished function Loading Images and Convert it to Numpy Array - Single Threaded Example in 12.624919176101685 seconds\n"
     ]
    }
   ],
   "source": [
    "with DecoTimer(\"Loading Images and Convert it to Numpy Array - Single Threaded Example\"):\n",
    "    images = [image_read_as_nparray(filename) for filename in filenames]\n"
   ]
  },
  {
   "cell_type": "markdown",
   "metadata": {},
   "source": [
    "#### 2.2 Multithreading Example"
   ]
  },
  {
   "cell_type": "code",
   "execution_count": 10,
   "metadata": {},
   "outputs": [
    {
     "name": "stderr",
     "output_type": "stream",
     "text": [
      "INFO:__main__:loading image 2d65d646\n",
      "INFO:__main__:loading image 6b145f94\n",
      "INFO:__main__:loading image 3c72af7b\n",
      "INFO:__main__:loading image a78d53a0\n"
     ]
    },
    {
     "name": "stdout",
     "output_type": "stream",
     "text": [
      ">>>>Starting Function Loading Images and Convert it to Numpy Array - Multithreading Example...\n"
     ]
    },
    {
     "name": "stderr",
     "output_type": "stream",
     "text": [
      "INFO:__main__:loading image a6b52912\n",
      "INFO:__main__:loading image 234ade86\n",
      "INFO:__main__:loading image a1343615\n",
      "INFO:__main__:loading image 9d50f75b\n",
      "INFO:__main__:loading image 22cc0a70\n",
      "INFO:__main__:loading image 1946a05d\n",
      "INFO:__main__:loading image 74cced27\n",
      "INFO:__main__:loading image 251e4326\n",
      "INFO:__main__:loading image bb31b409\n",
      "INFO:__main__:loading image ff786e05\n",
      "INFO:__main__:loading image aa3d339d\n",
      "INFO:__main__:loading image 2e2aafe1\n",
      "INFO:__main__:loading image c11b37e8\n",
      "INFO:__main__:loading image f5abd9a8\n",
      "INFO:__main__:loading image 66df0be7\n",
      "INFO:__main__:loading image 76dfca0b\n"
     ]
    },
    {
     "name": "stdout",
     "output_type": "stream",
     "text": [
      "<<Finished function Loading Images and Convert it to Numpy Array - Multithreading Example in 13.617112159729004 seconds\n"
     ]
    }
   ],
   "source": [
    "class LoadingWorker(Thread):\n",
    "    \n",
    "    def __init__(self, in_queue, out_queue):\n",
    "        Thread.__init__(self)\n",
    "        self.in_queue = in_queue # create a worker queue to pass in the image filename sequentially\n",
    "        self.out_queue = out_queue # creaet a worker queue to store the output data\n",
    "        \n",
    "    def run(self):\n",
    "        while True:\n",
    "            filename = self.in_queue.get()\n",
    "            try:\n",
    "                self.out_queue.put(image_read_as_nparray(filename))\n",
    "            finally:\n",
    "                self.in_queue.task_done()\n",
    "\n",
    "with DecoTimer(\"Loading Images and Convert it to Numpy Array - Multithreading Example\"):\n",
    "    in_queue = Queue()\n",
    "    out_queue = Queue()\n",
    "    for x in range(4):\n",
    "        worker = LoadingWorker(in_queue, out_queue)\n",
    "        worker.daemon = True\n",
    "        worker.start()\n",
    "    \n",
    "    for filename in filenames:\n",
    "        in_queue.put((filename))\n",
    "    in_queue.join()\n",
    "    \n",
    "    images = []\n",
    "    while out_queue.qsize() > 0:\n",
    "        try:\n",
    "            images.append(out_queue.get())\n",
    "        finally:    \n",
    "            out_queue.task_done()\n",
    "    out_queue.join()\n",
    "\n",
    "        \n",
    "    \n",
    "    "
   ]
  },
  {
   "cell_type": "markdown",
   "metadata": {},
   "source": [
    "#### 2.3 Multiprocessing Example"
   ]
  },
  {
   "cell_type": "code",
   "execution_count": 11,
   "metadata": {},
   "outputs": [
    {
     "name": "stdout",
     "output_type": "stream",
     "text": [
      ">>>>Starting Function Load Images and Convert it to Numpy Array - Multiprocessing Example...\n"
     ]
    },
    {
     "name": "stderr",
     "output_type": "stream",
     "text": [
      "INFO:__main__:loading image 2d65d646\n",
      "INFO:__main__:loading image a78d53a0\n",
      "INFO:__main__:loading image a6b52912\n",
      "INFO:__main__:loading image 234ade86\n",
      "INFO:__main__:loading image 9d50f75b\n",
      "INFO:__main__:loading image 3c72af7b\n",
      "INFO:__main__:loading image a1343615\n",
      "INFO:__main__:loading image 6b145f94\n",
      "INFO:__main__:loading image 22cc0a70\n",
      "INFO:__main__:loading image 74cced27\n",
      "INFO:__main__:loading image 1946a05d\n",
      "INFO:__main__:loading image bb31b409\n",
      "INFO:__main__:loading image aa3d339d\n",
      "INFO:__main__:loading image ff786e05\n",
      "INFO:__main__:loading image 251e4326\n",
      "INFO:__main__:loading image c11b37e8\n",
      "INFO:__main__:loading image 2e2aafe1\n",
      "INFO:__main__:loading image f5abd9a8\n",
      "INFO:__main__:loading image 66df0be7\n",
      "INFO:__main__:loading image 76dfca0b\n"
     ]
    },
    {
     "name": "stdout",
     "output_type": "stream",
     "text": [
      "<<Finished function Load Images and Convert it to Numpy Array - Multiprocessing Example in 8.577088117599487 seconds\n"
     ]
    }
   ],
   "source": [
    "with DecoTimer(\"Load Images and Convert it to Numpy Array - Multiprocessing Example\"):\n",
    "    with Pool(4) as p:\n",
    "        images = p.map(image_read_as_nparray, filenames)\n",
    "        "
   ]
  },
  {
   "cell_type": "markdown",
   "metadata": {},
   "source": [
    "### 3. Grayscale Image"
   ]
  },
  {
   "cell_type": "code",
   "execution_count": 32,
   "metadata": {},
   "outputs": [],
   "source": [
    "def grayscale_for_loop(image, n):\n",
    "    for i in range(len(image)):\n",
    "        for j in range(len(image[0])):\n",
    "            average = (image[i][j][0] + image[i][j][1] + image[i][j][2]) / 3\n",
    "            image[i][j][0] = image[i][j][1] = image[i][j][2] = average\n",
    "    im = Image.fromarray(np.uint8(image))\n",
    "    logging.info('Grayscaled image')\n",
    "    if n == 0:\n",
    "        im.show() # only display one image to prove that the image is grayscaled\n",
    "    return im"
   ]
  },
  {
   "cell_type": "markdown",
   "metadata": {},
   "source": [
    "#### 3.1 Single Threaded (using For-Loop) 51-53 seconds"
   ]
  },
  {
   "cell_type": "code",
   "execution_count": 33,
   "metadata": {},
   "outputs": [
    {
     "name": "stdout",
     "output_type": "stream",
     "text": [
      ">>>>Starting Function Resetting Images...\n"
     ]
    },
    {
     "name": "stderr",
     "output_type": "stream",
     "text": [
      "INFO:__main__:loading image a78d53a0\n",
      "INFO:__main__:loading image 2d65d646\n",
      "INFO:__main__:loading image a6b52912\n",
      "INFO:__main__:loading image 234ade86\n",
      "INFO:__main__:loading image 6b145f94\n",
      "INFO:__main__:loading image 3c72af7b\n",
      "INFO:__main__:loading image 9d50f75b\n",
      "INFO:__main__:loading image a1343615\n",
      "INFO:__main__:loading image 22cc0a70\n",
      "INFO:__main__:loading image 74cced27\n",
      "INFO:__main__:loading image bb31b409\n",
      "INFO:__main__:loading image 1946a05d\n",
      "INFO:__main__:loading image aa3d339d\n",
      "INFO:__main__:loading image ff786e05\n",
      "INFO:__main__:loading image 251e4326\n",
      "INFO:__main__:loading image c11b37e8\n",
      "INFO:__main__:loading image 2e2aafe1\n",
      "INFO:__main__:loading image f5abd9a8\n",
      "INFO:__main__:loading image 66df0be7\n",
      "INFO:__main__:loading image 76dfca0b\n"
     ]
    },
    {
     "name": "stdout",
     "output_type": "stream",
     "text": [
      "<<Finished function Resetting Images in 8.712460041046143 seconds\n"
     ]
    }
   ],
   "source": [
    "# Resetting images using multiprocessing\n",
    "with DecoTimer(\"Resetting Images\"):\n",
    "    with Pool(4) as p:\n",
    "        images = p.map(image_read_as_nparray, filenames)\n",
    "Image.fromarray(np.uint8(images[0])).show()"
   ]
  },
  {
   "cell_type": "code",
   "execution_count": 34,
   "metadata": {},
   "outputs": [
    {
     "name": "stdout",
     "output_type": "stream",
     "text": [
      ">>>>Starting Function Grayscale Image - Single Threaded For Loop...\n"
     ]
    },
    {
     "name": "stderr",
     "output_type": "stream",
     "text": [
      "INFO:root:Grayscaled image\n",
      "INFO:root:Grayscaled image\n",
      "INFO:root:Grayscaled image\n",
      "INFO:root:Grayscaled image\n",
      "INFO:root:Grayscaled image\n",
      "INFO:root:Grayscaled image\n",
      "INFO:root:Grayscaled image\n",
      "INFO:root:Grayscaled image\n",
      "INFO:root:Grayscaled image\n",
      "INFO:root:Grayscaled image\n",
      "INFO:root:Grayscaled image\n",
      "INFO:root:Grayscaled image\n",
      "INFO:root:Grayscaled image\n",
      "INFO:root:Grayscaled image\n",
      "INFO:root:Grayscaled image\n",
      "INFO:root:Grayscaled image\n",
      "INFO:root:Grayscaled image\n",
      "INFO:root:Grayscaled image\n",
      "INFO:root:Grayscaled image\n",
      "INFO:root:Grayscaled image\n"
     ]
    },
    {
     "name": "stdout",
     "output_type": "stream",
     "text": [
      "<<Finished function Grayscale Image - Single Threaded For Loop in 52.40959429740906 seconds\n"
     ]
    }
   ],
   "source": [
    "with DecoTimer(\"Grayscale Image - Single Threaded For Loop\"):\n",
    "    for n, image in enumerate(images):\n",
    "        im = grayscale_for_loop(image, n)"
   ]
  },
  {
   "cell_type": "markdown",
   "metadata": {},
   "source": [
    "#### Multithreading Example (using For-Loop) 55-58 seconds"
   ]
  },
  {
   "cell_type": "code",
   "execution_count": 37,
   "metadata": {},
   "outputs": [
    {
     "name": "stdout",
     "output_type": "stream",
     "text": [
      ">>>>Starting Function Resetting Images...\n"
     ]
    },
    {
     "name": "stderr",
     "output_type": "stream",
     "text": [
      "INFO:__main__:loading image a78d53a0\n",
      "INFO:__main__:loading image a6b52912\n",
      "INFO:__main__:loading image 2d65d646\n",
      "INFO:__main__:loading image 234ade86\n",
      "INFO:__main__:loading image 6b145f94\n",
      "INFO:__main__:loading image a1343615\n",
      "INFO:__main__:loading image 9d50f75b\n",
      "INFO:__main__:loading image 3c72af7b\n",
      "INFO:__main__:loading image 22cc0a70\n",
      "INFO:__main__:loading image 74cced27\n",
      "INFO:__main__:loading image 1946a05d\n",
      "INFO:__main__:loading image bb31b409\n",
      "INFO:__main__:loading image aa3d339d\n",
      "INFO:__main__:loading image ff786e05\n",
      "INFO:__main__:loading image 2e2aafe1\n",
      "INFO:__main__:loading image 251e4326\n",
      "INFO:__main__:loading image c11b37e8\n",
      "INFO:__main__:loading image f5abd9a8\n",
      "INFO:__main__:loading image 66df0be7\n",
      "INFO:__main__:loading image 76dfca0b\n"
     ]
    },
    {
     "name": "stdout",
     "output_type": "stream",
     "text": [
      "<<Finished function Resetting Images in 8.421438932418823 seconds\n"
     ]
    }
   ],
   "source": [
    "# Resetting images using multiprocessing\n",
    "with DecoTimer(\"Resetting Images\"):\n",
    "    with Pool(4) as p:\n",
    "        images = p.map(image_read_as_nparray, filenames)\n",
    "Image.fromarray(np.uint8(images[0])).show()"
   ]
  },
  {
   "cell_type": "code",
   "execution_count": 38,
   "metadata": {},
   "outputs": [
    {
     "name": "stdout",
     "output_type": "stream",
     "text": [
      ">>>>Starting Function Grayscale Image - Multithreading For Loop...\n"
     ]
    },
    {
     "name": "stderr",
     "output_type": "stream",
     "text": [
      "INFO:root:Grayscaled image\n",
      "INFO:root:Grayscaled image\n",
      "INFO:root:Grayscaled image\n",
      "INFO:root:Grayscaled image\n",
      "INFO:root:Grayscaled image\n",
      "INFO:root:Grayscaled image\n",
      "INFO:root:Grayscaled image\n",
      "INFO:root:Grayscaled image\n",
      "INFO:root:Grayscaled image\n",
      "INFO:root:Grayscaled image\n",
      "INFO:root:Grayscaled image\n",
      "INFO:root:Grayscaled image\n",
      "INFO:root:Grayscaled image\n",
      "INFO:root:Grayscaled image\n",
      "INFO:root:Grayscaled image\n",
      "INFO:root:Grayscaled image\n",
      "INFO:root:Grayscaled image\n",
      "INFO:root:Grayscaled image\n",
      "INFO:root:Grayscaled image\n",
      "INFO:root:Grayscaled image\n"
     ]
    },
    {
     "name": "stdout",
     "output_type": "stream",
     "text": [
      "<<Finished function Grayscale Image - Multithreading For Loop in 55.79206895828247 seconds\n"
     ]
    }
   ],
   "source": [
    "class GrayscaleWorker(Thread):\n",
    "    \n",
    "    def __init__(self, queue):\n",
    "        Thread.__init__(self)\n",
    "        self.queue = queue # create a worker queue to pass in numpy array sequentially\n",
    "        \n",
    "    def run(self):\n",
    "        while True:\n",
    "            n, image = self.queue.get()\n",
    "            try:\n",
    "                im = grayscale_for_loop(image, n)\n",
    "            finally:\n",
    "                self.queue.task_done()\n",
    "\n",
    "with DecoTimer(\"Grayscale Image - Multithreading For Loop\"):\n",
    "    queue = Queue()\n",
    "    for x in range(4):\n",
    "        worker = GrayscaleWorker(queue)\n",
    "        worker.daemon = True\n",
    "        worker.start()\n",
    "    \n",
    "    for n, image in enumerate(images):\n",
    "        queue.put((n, image))\n",
    "    queue.join()"
   ]
  },
  {
   "cell_type": "markdown",
   "metadata": {},
   "source": [
    "#### Multiprocessing Example (using For-Loop) 28-30 seconds"
   ]
  },
  {
   "cell_type": "code",
   "execution_count": 39,
   "metadata": {},
   "outputs": [
    {
     "name": "stdout",
     "output_type": "stream",
     "text": [
      ">>>>Starting Function Resetting Images...\n"
     ]
    },
    {
     "name": "stderr",
     "output_type": "stream",
     "text": [
      "INFO:__main__:loading image a78d53a0\n",
      "INFO:__main__:loading image a6b52912\n",
      "INFO:__main__:loading image 2d65d646\n",
      "INFO:__main__:loading image 234ade86\n",
      "INFO:__main__:loading image a1343615\n",
      "INFO:__main__:loading image 3c72af7b\n",
      "INFO:__main__:loading image 9d50f75b\n",
      "INFO:__main__:loading image 6b145f94\n",
      "INFO:__main__:loading image 22cc0a70\n",
      "INFO:__main__:loading image 74cced27\n",
      "INFO:__main__:loading image bb31b409\n",
      "INFO:__main__:loading image aa3d339d\n",
      "INFO:__main__:loading image 1946a05d\n",
      "INFO:__main__:loading image ff786e05\n",
      "INFO:__main__:loading image 251e4326\n",
      "INFO:__main__:loading image c11b37e8\n",
      "INFO:__main__:loading image 2e2aafe1\n",
      "INFO:__main__:loading image f5abd9a8\n",
      "INFO:__main__:loading image 66df0be7\n",
      "INFO:__main__:loading image 76dfca0b\n"
     ]
    },
    {
     "name": "stdout",
     "output_type": "stream",
     "text": [
      "<<Finished function Resetting Images in 8.24036192893982 seconds\n"
     ]
    }
   ],
   "source": [
    "# Resetting images using multiprocessing\n",
    "with DecoTimer(\"Resetting Images\"):\n",
    "    with Pool(4) as p:\n",
    "        images = p.map(image_read_as_nparray, filenames)\n",
    "Image.fromarray(np.uint8(images[0])).show()"
   ]
  },
  {
   "cell_type": "code",
   "execution_count": 40,
   "metadata": {},
   "outputs": [
    {
     "name": "stdout",
     "output_type": "stream",
     "text": [
      ">>>>Starting Function Grayscale Image - MultiProcessing Example ...\n"
     ]
    },
    {
     "name": "stderr",
     "output_type": "stream",
     "text": [
      "INFO:root:Grayscaled image\n",
      "INFO:root:Grayscaled image\n",
      "INFO:root:Grayscaled image\n",
      "INFO:root:Grayscaled image\n",
      "INFO:root:Grayscaled image\n",
      "INFO:root:Grayscaled image\n",
      "INFO:root:Grayscaled image\n",
      "INFO:root:Grayscaled image\n",
      "INFO:root:Grayscaled image\n",
      "INFO:root:Grayscaled image\n",
      "INFO:root:Grayscaled image\n",
      "INFO:root:Grayscaled image\n",
      "INFO:root:Grayscaled image\n",
      "INFO:root:Grayscaled image\n",
      "INFO:root:Grayscaled image\n",
      "INFO:root:Grayscaled image\n",
      "INFO:root:Grayscaled image\n",
      "INFO:root:Grayscaled image\n",
      "INFO:root:Grayscaled image\n",
      "INFO:root:Grayscaled image\n"
     ]
    },
    {
     "name": "stdout",
     "output_type": "stream",
     "text": [
      "<<Finished function Grayscale Image - MultiProcessing Example  in 28.870956897735596 seconds\n"
     ]
    }
   ],
   "source": [
    "\n",
    "with DecoTimer(\"Grayscale Image - MultiProcessing Example \"):\n",
    "    with Pool(4) as p:\n",
    "        im_arr = p.starmap(grayscale_for_loop, zip(images, [i for i in range(len(images))]))\n",
    "        "
   ]
  },
  {
   "cell_type": "markdown",
   "metadata": {},
   "source": [
    "#### 2.4 Numpy Vector Operations (Single Thread, Eliminate Inner Loops) 48~51 seconds"
   ]
  },
  {
   "cell_type": "code",
   "execution_count": 77,
   "metadata": {},
   "outputs": [
    {
     "name": "stdout",
     "output_type": "stream",
     "text": [
      ">>>>Starting Function Resetting Images...\n"
     ]
    },
    {
     "name": "stderr",
     "output_type": "stream",
     "text": [
      "INFO:__main__:loading image 2d65d646\n",
      "INFO:__main__:loading image a78d53a0\n",
      "INFO:__main__:loading image 234ade86\n",
      "INFO:__main__:loading image a6b52912\n",
      "INFO:__main__:loading image 9d50f75b\n",
      "INFO:__main__:loading image 3c72af7b\n",
      "INFO:__main__:loading image 6b145f94\n",
      "INFO:__main__:loading image a1343615\n",
      "INFO:__main__:loading image 22cc0a70\n",
      "INFO:__main__:loading image 74cced27\n",
      "INFO:__main__:loading image bb31b409\n",
      "INFO:__main__:loading image 1946a05d\n",
      "INFO:__main__:loading image aa3d339d\n",
      "INFO:__main__:loading image ff786e05\n",
      "INFO:__main__:loading image 251e4326\n",
      "INFO:__main__:loading image c11b37e8\n",
      "INFO:__main__:loading image 2e2aafe1\n",
      "INFO:__main__:loading image f5abd9a8\n",
      "INFO:__main__:loading image 66df0be7\n",
      "INFO:__main__:loading image 76dfca0b\n"
     ]
    },
    {
     "name": "stdout",
     "output_type": "stream",
     "text": [
      "<<Finished function Resetting Images in 8.567822217941284 seconds\n"
     ]
    }
   ],
   "source": [
    "# Resetting images using multiprocessing\n",
    "with DecoTimer(\"Resetting Images\"):\n",
    "    with Pool(4) as p:\n",
    "        images = p.map(image_read_as_nparray, filenames)\n",
    "Image.fromarray(np.uint8(images[0])).show()"
   ]
  },
  {
   "cell_type": "code",
   "execution_count": 80,
   "metadata": {},
   "outputs": [],
   "source": [
    "def grayscale_vector(image, n):\n",
    "    average = ((image[:, :, 0] + image[:, :, 1] + image[:, :, 2]) / 3).astype(int)\n",
    "    image[:, :, 0] = image[:, :, 1] = image[:, :, 2] = average\n",
    "    im = Image.fromarray(np.uint8(image)).show()\n",
    "    logging.info('Grayscaled image')\n",
    "    if n == 0:\n",
    "        im.show()\n",
    "    return im"
   ]
  },
  {
   "cell_type": "code",
   "execution_count": 85,
   "metadata": {},
   "outputs": [
    {
     "name": "stdout",
     "output_type": "stream",
     "text": [
      ">>>>Starting Function Single Threaded with Numpy Vectorization, Eliminate Inner Loop...\n"
     ]
    },
    {
     "name": "stderr",
     "output_type": "stream",
     "text": [
      "INFO:root:Grayscaled image\n",
      "INFO:root:Grayscaled image\n",
      "INFO:root:Grayscaled image\n",
      "INFO:root:Grayscaled image\n",
      "INFO:root:Grayscaled image\n",
      "INFO:root:Grayscaled image\n",
      "INFO:root:Grayscaled image\n",
      "INFO:root:Grayscaled image\n",
      "INFO:root:Grayscaled image\n",
      "INFO:root:Grayscaled image\n",
      "INFO:root:Grayscaled image\n",
      "INFO:root:Grayscaled image\n",
      "INFO:root:Grayscaled image\n",
      "INFO:root:Grayscaled image\n",
      "INFO:root:Grayscaled image\n",
      "INFO:root:Grayscaled image\n",
      "INFO:root:Grayscaled image\n",
      "INFO:root:Grayscaled image\n",
      "INFO:root:Grayscaled image\n",
      "INFO:root:Grayscaled image\n"
     ]
    },
    {
     "name": "stdout",
     "output_type": "stream",
     "text": [
      "<<Finished function Single Threaded with Numpy Vectorization, Eliminate Inner Loop in 48.89266324043274 seconds\n"
     ]
    }
   ],
   "source": [
    "with DecoTimer(\"Single Threaded with Numpy Vectorization, Eliminate Inner Loop\"):\n",
    "    for n, image in enumerate(images):\n",
    "        im = grayscale_for_loop(image, n)"
   ]
  },
  {
   "cell_type": "markdown",
   "metadata": {},
   "source": [
    "#### 2.5 Numpy Vector Operation (Single Thread, Vectorized Across All Images):    **Less than 1 Second**"
   ]
  },
  {
   "cell_type": "code",
   "execution_count": 103,
   "metadata": {},
   "outputs": [
    {
     "name": "stdout",
     "output_type": "stream",
     "text": [
      ">>>>Starting Function Resetting Images...\n"
     ]
    },
    {
     "name": "stderr",
     "output_type": "stream",
     "text": [
      "INFO:__main__:loading image 234ade86\n",
      "INFO:__main__:loading image a78d53a0\n",
      "INFO:__main__:loading image a6b52912\n",
      "INFO:__main__:loading image 2d65d646\n",
      "INFO:__main__:loading image a1343615\n",
      "INFO:__main__:loading image 6b145f94\n",
      "INFO:__main__:loading image 9d50f75b\n",
      "INFO:__main__:loading image 3c72af7b\n",
      "INFO:__main__:loading image 22cc0a70\n",
      "INFO:__main__:loading image 74cced27\n",
      "INFO:__main__:loading image bb31b409\n",
      "INFO:__main__:loading image aa3d339d\n",
      "INFO:__main__:loading image 1946a05d\n",
      "INFO:__main__:loading image ff786e05\n",
      "INFO:__main__:loading image 251e4326\n",
      "INFO:__main__:loading image c11b37e8\n",
      "INFO:__main__:loading image 2e2aafe1\n",
      "INFO:__main__:loading image f5abd9a8\n",
      "INFO:__main__:loading image 66df0be7\n",
      "INFO:__main__:loading image 76dfca0b\n"
     ]
    },
    {
     "name": "stdout",
     "output_type": "stream",
     "text": [
      "<<Finished function Resetting Images in 8.952479124069214 seconds\n"
     ]
    }
   ],
   "source": [
    "# Resetting images using multiprocessing\n",
    "with DecoTimer(\"Resetting Images\"):\n",
    "    with Pool(4) as p:\n",
    "        images = p.map(image_read_as_nparray, filenames)\n",
    "Image.fromarray(np.uint8(images[0])).show()"
   ]
  },
  {
   "cell_type": "code",
   "execution_count": 104,
   "metadata": {},
   "outputs": [
    {
     "name": "stdout",
     "output_type": "stream",
     "text": [
      ">>>>Starting Function Vectorized Across All Images...\n",
      "<<Finished function Vectorized Across All Images in 0.7732219696044922 seconds\n"
     ]
    }
   ],
   "source": [
    "with DecoTimer(\"Vectorized Across All Images\"):\n",
    "    npimages = np.array(images)\n",
    "    average = ((npimages[:, :, :, 0] + npimages[:, :, :, 1] + npimages[:, :, :, 2]) / 3).astype(int)\n",
    "    npimages[:, :, :, 0] = npimages[:, :, :, 1] = npimages[:, :, :, 2] = average\n",
    "    \n",
    "    for n in range(len(npimages)):\n",
    "        im = Image.fromarray(np.uint8(npimages[n]))\n",
    "        if n == 0:\n",
    "            im.show()\n"
   ]
  },
  {
   "cell_type": "code",
   "execution_count": null,
   "metadata": {},
   "outputs": [],
   "source": [
    "remove_images() # clean up"
   ]
  }
 ],
 "metadata": {
  "kernelspec": {
   "display_name": "Python 3",
   "language": "python",
   "name": "python3"
  },
  "language_info": {
   "codemirror_mode": {
    "name": "ipython",
    "version": 3
   },
   "file_extension": ".py",
   "mimetype": "text/x-python",
   "name": "python",
   "nbconvert_exporter": "python",
   "pygments_lexer": "ipython3",
   "version": "3.6.4"
  }
 },
 "nbformat": 4,
 "nbformat_minor": 2
}
