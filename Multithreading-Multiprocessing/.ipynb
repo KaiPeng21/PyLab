{
 "cells": [
  {
   "cell_type": "code",
   "execution_count": 3,
   "metadata": {},
   "outputs": [],
   "source": []
  },
  {
   "cell_type": "markdown",
   "metadata": {},
   "source": [
    "### Single Threaded Example"
   ]
  },
  {
   "cell_type": "code",
   "execution_count": 8,
   "metadata": {},
   "outputs": [
    {
     "name": "stderr",
     "output_type": "stream",
     "text": [
      "INFO:>>>>Starting Function Testing Single Threaded...\n"
     ]
    },
    {
     "name": "stdout",
     "output_type": "stream",
     "text": [
      "calculate square of numbers\n",
      "square:  4\n",
      "square:  16\n",
      "square:  64\n",
      "square:  81\n",
      "calculate square of numbers\n",
      "square:  4\n",
      "square:  16\n",
      "square:  64\n"
     ]
    },
    {
     "name": "stderr",
     "output_type": "stream",
     "text": [
      "INFO:<<Finished function Testing Single Threaded in 1.6355822086334229 seconds\n"
     ]
    },
    {
     "name": "stdout",
     "output_type": "stream",
     "text": [
      "square:  81\n"
     ]
    }
   ],
   "source": [
    "from utils.timer import DecoTimer\n",
    "import time\n",
    "\n",
    "def calc_square(arr):\n",
    "    print(\"calculate square of numbers\")\n",
    "    for n in arr:\n",
    "        time.sleep(0.2)\n",
    "        print('square: ', n*n)\n",
    "        \n",
    "def calc_cube(arr):\n",
    "    print(\"calculate cube of numbers\")\n",
    "    for n in arr:\n",
    "        time.sleep(0.2)\n",
    "        print('square: ', n*n*n)\n",
    "        \n",
    "arr = [2, 4, 8, 9]\n",
    "\n",
    "with DecoTimer(\"Testing Single Threaded\"):\n",
    "    calc_square(arr)\n",
    "    calc_square(arr)"
   ]
  },
  {
   "cell_type": "code",
   "execution_count": null,
   "metadata": {},
   "outputs": [],
   "source": []
  }
 ],
 "metadata": {
  "kernelspec": {
   "display_name": "Python 3",
   "language": "python",
   "name": "python3"
  },
  "language_info": {
   "codemirror_mode": {
    "name": "ipython",
    "version": 3
   },
   "file_extension": ".py",
   "mimetype": "text/x-python",
   "name": "python",
   "nbconvert_exporter": "python",
   "pygments_lexer": "ipython3",
   "version": "3.6.4"
  }
 },
 "nbformat": 4,
 "nbformat_minor": 2
}
