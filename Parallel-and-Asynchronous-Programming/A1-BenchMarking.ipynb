{
 "cells": [
  {
   "cell_type": "markdown",
   "metadata": {},
   "source": [
    "# Execution Benchmarking\n",
    "\n",
    "In this module, we will look at how threading and multiprocesses perform on multiple differnt tasks."
   ]
  },
  {
   "cell_type": "code",
   "execution_count": 1,
   "metadata": {},
   "outputs": [],
   "source": [
    "from utils.timer import DecoTimer\n",
    "\n",
    "import os\n",
    "import requests\n",
    "import uuid\n",
    "from queue import Queue\n",
    "import logging\n",
    "\n",
    "from threading import Thread\n",
    "from multiprocessing.pool import Pool\n"
   ]
  },
  {
   "cell_type": "code",
   "execution_count": 2,
   "metadata": {},
   "outputs": [],
   "source": [
    "logging.basicConfig(level=logging.INFO)\n",
    "logger = logging.getLogger(__name__)"
   ]
  },
  {
   "cell_type": "markdown",
   "metadata": {},
   "source": [
    "### 1. Download Images"
   ]
  },
  {
   "cell_type": "code",
   "execution_count": 3,
   "metadata": {},
   "outputs": [],
   "source": [
    "num_of_pics = 20\n",
    "image_endpoints = [f'https://picsum.photos/800/800?image={i}' for i in range(num_of_pics)]\n",
    "filenames = [str(uuid.uuid4())[:8] for _ in range(num_of_pics)]\n",
    "\n",
    "def download_image(image_url, filename):\n",
    "    # Set stream to True to prevent the requests library suck memory \n",
    "    # and stays around 30kb regardless size of the download file\n",
    "    img_data = requests.get(image_url, stream = True, headers={'Cache-Control': 'no-cache'}).content\n",
    "    with open(f'images/{filename}.bmp', 'wb') as handler:\n",
    "        handler.write(img_data)\n",
    "        logger.info(f'writing {filename}')\n",
    "\n",
    "def create_image_dir():\n",
    "    os.system(\"mkdir -p images\")\n",
    "\n",
    "def remove_images():\n",
    "    os.system(\"rm images/*\")\n",
    "\n",
    "download_dir = create_image_dir()"
   ]
  },
  {
   "cell_type": "markdown",
   "metadata": {},
   "source": [
    "#### 1. 1 Single Threaded"
   ]
  },
  {
   "cell_type": "code",
   "execution_count": 4,
   "metadata": {
    "scrolled": true
   },
   "outputs": [
    {
     "name": "stdout",
     "output_type": "stream",
     "text": [
      ">>>>Starting Function Download Image - Single Thread...\n"
     ]
    },
    {
     "name": "stderr",
     "output_type": "stream",
     "text": [
      "INFO:__main__:writing 5be15764\n",
      "INFO:__main__:writing 7a080e0c\n",
      "INFO:__main__:writing faadb65d\n",
      "INFO:__main__:writing 1acbc16b\n",
      "INFO:__main__:writing 7ee5fd5d\n",
      "INFO:__main__:writing aeb98553\n",
      "INFO:__main__:writing f1042790\n",
      "INFO:__main__:writing 0a5dec33\n",
      "INFO:__main__:writing 49d1ac73\n",
      "INFO:__main__:writing 769aec01\n",
      "INFO:__main__:writing 53f0c3a0\n",
      "INFO:__main__:writing 08f0c7b9\n",
      "INFO:__main__:writing 0637533a\n",
      "INFO:__main__:writing 95c8ef0d\n",
      "INFO:__main__:writing 02778389\n",
      "INFO:__main__:writing e490523c\n",
      "INFO:__main__:writing 1c2ddbcd\n",
      "INFO:__main__:writing bf481c9b\n",
      "INFO:__main__:writing 1d8c4f49\n",
      "INFO:__main__:writing efdc51da\n"
     ]
    },
    {
     "name": "stdout",
     "output_type": "stream",
     "text": [
      "<<Finished function Download Image - Single Thread in 22.773748874664307 seconds\n"
     ]
    }
   ],
   "source": [
    "\n",
    "with DecoTimer(\"Download Image - Single Thread\"):\n",
    "    for image_endpoint, filename in zip(image_endpoints, filenames):\n",
    "        download_image(image_endpoint, filename)        \n"
   ]
  },
  {
   "cell_type": "markdown",
   "metadata": {},
   "source": [
    "#### 1.2 Multithreading Example"
   ]
  },
  {
   "cell_type": "code",
   "execution_count": 10,
   "metadata": {},
   "outputs": [
    {
     "name": "stdout",
     "output_type": "stream",
     "text": [
      ">>>>Starting Function Download Image - Multithreading with 4 Workers...\n"
     ]
    },
    {
     "name": "stderr",
     "output_type": "stream",
     "text": [
      "INFO:__main__:writing 7a080e0c\n",
      "INFO:__main__:writing faadb65d\n",
      "INFO:__main__:writing 1acbc16b\n",
      "INFO:__main__:writing 7ee5fd5d\n",
      "INFO:__main__:writing f1042790\n",
      "INFO:__main__:writing 5be15764\n",
      "INFO:__main__:writing aeb98553\n",
      "INFO:__main__:writing 0a5dec33\n",
      "INFO:__main__:writing 08f0c7b9\n",
      "INFO:__main__:writing 53f0c3a0\n",
      "INFO:__main__:writing 49d1ac73\n",
      "INFO:__main__:writing 769aec01\n",
      "INFO:__main__:writing 95c8ef0d\n",
      "INFO:__main__:writing 0637533a\n",
      "INFO:__main__:writing 02778389\n",
      "INFO:__main__:writing e490523c\n",
      "INFO:__main__:writing 1c2ddbcd\n",
      "INFO:__main__:writing bf481c9b\n",
      "INFO:__main__:writing efdc51da\n",
      "INFO:__main__:writing 1d8c4f49\n"
     ]
    },
    {
     "name": "stdout",
     "output_type": "stream",
     "text": [
      "<<Finished function Download Image - Multithreading with 4 Workers in 2.589384078979492 seconds\n"
     ]
    }
   ],
   "source": [
    "class DownloadWorker(Thread):\n",
    "    \n",
    "    def __init__(self, queue):\n",
    "        Thread.__init__(self)\n",
    "        self.queue = queue # create a worker queue to pass in the image filename sequentially\n",
    "        \n",
    "    def run(self):\n",
    "        while True:\n",
    "            image_endpoint, filename = self.queue.get()\n",
    "            try:\n",
    "                download_image(image_endpoint, filename)\n",
    "            finally:\n",
    "                self.queue.task_done()\n",
    "\n",
    "with DecoTimer(\"Download Image - Multithreading with 4 Workers\"):\n",
    "    queue = Queue()\n",
    "    for x in range(4):\n",
    "        worker = DownloadWorker(queue)\n",
    "        worker.daemon = True # enable daemon to allow main thread exit even when workers are blocking\n",
    "        worker.start()\n",
    "    # send in filenames to workers from main thread\n",
    "    for image_endpoint, filename in zip(image_endpoints, filenames):\n",
    "        queue.put((image_endpoint, filename))\n",
    "    queue.join()"
   ]
  },
  {
   "cell_type": "markdown",
   "metadata": {},
   "source": [
    "#### 1.3 Multiprocessing Example"
   ]
  },
  {
   "cell_type": "code",
   "execution_count": 6,
   "metadata": {},
   "outputs": [
    {
     "name": "stdout",
     "output_type": "stream",
     "text": [
      ">>>>Starting Function Download Image - Multiprocessing with 4 Workers...\n"
     ]
    },
    {
     "name": "stderr",
     "output_type": "stream",
     "text": [
      "INFO:__main__:writing 7ee5fd5d\n",
      "INFO:__main__:writing f1042790\n",
      "INFO:__main__:writing faadb65d\n",
      "INFO:__main__:writing 1acbc16b\n",
      "INFO:__main__:writing aeb98553\n",
      "INFO:__main__:writing 5be15764\n",
      "INFO:__main__:writing 0a5dec33\n",
      "INFO:__main__:writing 7a080e0c\n",
      "INFO:__main__:writing 53f0c3a0\n",
      "INFO:__main__:writing 08f0c7b9\n",
      "INFO:__main__:writing 0637533a\n",
      "INFO:__main__:writing 49d1ac73\n",
      "INFO:__main__:writing 02778389\n",
      "INFO:__main__:writing 1c2ddbcd\n",
      "INFO:__main__:writing 95c8ef0d\n",
      "INFO:__main__:writing e490523c\n",
      "INFO:__main__:writing bf481c9b\n",
      "INFO:__main__:writing 769aec01\n",
      "INFO:__main__:writing 1d8c4f49\n",
      "INFO:__main__:writing efdc51da\n"
     ]
    },
    {
     "name": "stdout",
     "output_type": "stream",
     "text": [
      "<<Finished function Download Image - Multiprocessing with 4 Workers in 2.8966729640960693 seconds\n"
     ]
    }
   ],
   "source": [
    "\n",
    "with DecoTimer(\"Download Image - Multiprocessing with 4 Workers\"):\n",
    "    args = list(zip(image_endpoints, filenames))\n",
    "    with Pool(4) as p:\n",
    "        p.starmap(download_image, args)\n"
   ]
  },
  {
   "cell_type": "markdown",
   "metadata": {},
   "source": [
    "### 2. Load Image and convert it to Numpy Array"
   ]
  },
  {
   "cell_type": "markdown",
   "metadata": {},
   "source": [
    "<i>Make sure you have the images downloaded in the images/ directory from the previous step.</i>"
   ]
  },
  {
   "cell_type": "code",
   "execution_count": 7,
   "metadata": {},
   "outputs": [],
   "source": [
    "from PIL import Image\n",
    "import numpy as np\n",
    "\n",
    "def image_read_as_nparray(filename):\n",
    "    image = Image.open(f'images/{filename}.bmp')\n",
    "    logger.info(f'loading image {filename}')\n",
    "    return np.array(image.getdata()).reshape(image.size[0], image.size[1], 3)"
   ]
  },
  {
   "cell_type": "markdown",
   "metadata": {},
   "source": [
    "#### 2.1 Single Threaded Example"
   ]
  },
  {
   "cell_type": "code",
   "execution_count": 8,
   "metadata": {},
   "outputs": [
    {
     "name": "stderr",
     "output_type": "stream",
     "text": [
      "INFO:__main__:loading image 5be15764\n"
     ]
    },
    {
     "name": "stdout",
     "output_type": "stream",
     "text": [
      ">>>>Starting Function Loading Images and Convert it to Numpy Array - Single Threaded Example...\n"
     ]
    },
    {
     "name": "stderr",
     "output_type": "stream",
     "text": [
      "INFO:__main__:loading image 7a080e0c\n",
      "INFO:__main__:loading image faadb65d\n",
      "INFO:__main__:loading image 1acbc16b\n",
      "INFO:__main__:loading image 7ee5fd5d\n",
      "INFO:__main__:loading image aeb98553\n",
      "INFO:__main__:loading image f1042790\n",
      "INFO:__main__:loading image 0a5dec33\n",
      "INFO:__main__:loading image 49d1ac73\n",
      "INFO:__main__:loading image 769aec01\n",
      "INFO:__main__:loading image 53f0c3a0\n",
      "INFO:__main__:loading image 08f0c7b9\n",
      "INFO:__main__:loading image 0637533a\n",
      "INFO:__main__:loading image 95c8ef0d\n",
      "INFO:__main__:loading image 02778389\n",
      "INFO:__main__:loading image e490523c\n",
      "INFO:__main__:loading image 1c2ddbcd\n",
      "INFO:__main__:loading image bf481c9b\n",
      "INFO:__main__:loading image 1d8c4f49\n",
      "INFO:__main__:loading image efdc51da\n"
     ]
    },
    {
     "name": "stdout",
     "output_type": "stream",
     "text": [
      "<<Finished function Loading Images and Convert it to Numpy Array - Single Threaded Example in 13.100675106048584 seconds\n"
     ]
    }
   ],
   "source": [
    "with DecoTimer(\"Loading Images and Convert it to Numpy Array - Single Threaded Example\"):\n",
    "    images = [image_read_as_nparray(filename) for filename in filenames]\n"
   ]
  },
  {
   "cell_type": "markdown",
   "metadata": {},
   "source": [
    "#### 2.2 Multithreading Example"
   ]
  },
  {
   "cell_type": "code",
   "execution_count": 11,
   "metadata": {},
   "outputs": [
    {
     "name": "stderr",
     "output_type": "stream",
     "text": [
      "INFO:__main__:loading image 5be15764\n",
      "INFO:__main__:loading image faadb65d\n",
      "INFO:__main__:loading image 1acbc16b\n",
      "INFO:__main__:loading image 7a080e0c\n"
     ]
    },
    {
     "name": "stdout",
     "output_type": "stream",
     "text": [
      ">>>>Starting Function Loading Images and Convert it to Numpy Array - Multithreading Example...\n"
     ]
    },
    {
     "name": "stderr",
     "output_type": "stream",
     "text": [
      "INFO:__main__:loading image f1042790\n",
      "INFO:__main__:loading image 0a5dec33\n",
      "INFO:__main__:loading image aeb98553\n",
      "INFO:__main__:loading image 7ee5fd5d\n",
      "INFO:__main__:loading image 49d1ac73\n",
      "INFO:__main__:loading image 769aec01\n",
      "INFO:__main__:loading image 53f0c3a0\n",
      "INFO:__main__:loading image 0637533a\n",
      "INFO:__main__:loading image 95c8ef0d\n",
      "INFO:__main__:loading image 02778389\n",
      "INFO:__main__:loading image 08f0c7b9\n",
      "INFO:__main__:loading image e490523c\n",
      "INFO:__main__:loading image 1c2ddbcd\n",
      "INFO:__main__:loading image bf481c9b\n",
      "INFO:__main__:loading image 1d8c4f49\n",
      "INFO:__main__:loading image efdc51da\n"
     ]
    },
    {
     "name": "stdout",
     "output_type": "stream",
     "text": [
      "<<Finished function Loading Images and Convert it to Numpy Array - Multithreading Example in 14.157184839248657 seconds\n"
     ]
    }
   ],
   "source": [
    "class LoadingWorker(Thread):\n",
    "    \n",
    "    def __init__(self, in_queue, out_queue):\n",
    "        Thread.__init__(self)\n",
    "        self.in_queue = in_queue # create a worker queue to pass in the image filename sequentially\n",
    "        self.out_queue = out_queue # creaet a worker queue to store the output data\n",
    "        \n",
    "    def run(self):\n",
    "        while True:\n",
    "            filename = self.in_queue.get()\n",
    "            try:\n",
    "                self.out_queue.put(image_read_as_nparray(filename))\n",
    "            finally:\n",
    "                self.in_queue.task_done()\n",
    "\n",
    "with DecoTimer(\"Loading Images and Convert it to Numpy Array - Multithreading Example\"):\n",
    "    in_queue = Queue()\n",
    "    out_queue = Queue()\n",
    "    for x in range(4):\n",
    "        worker = LoadingWorker(in_queue, out_queue)\n",
    "        worker.daemon = True\n",
    "        worker.start()\n",
    "    \n",
    "    for filename in filenames:\n",
    "        in_queue.put((filename))\n",
    "    in_queue.join()\n",
    "    \n",
    "    images = []\n",
    "    while out_queue.qsize() > 0:\n",
    "        try:\n",
    "            images.append(out_queue.get())\n",
    "        finally:    \n",
    "            out_queue.task_done()\n",
    "    out_queue.join()\n",
    "\n",
    "        \n",
    "    \n",
    "    "
   ]
  },
  {
   "cell_type": "markdown",
   "metadata": {},
   "source": [
    "#### 2.3 Multiprocessing Example"
   ]
  },
  {
   "cell_type": "code",
   "execution_count": 48,
   "metadata": {},
   "outputs": [
    {
     "name": "stdout",
     "output_type": "stream",
     "text": [
      ">>>>Starting Function Load Images and Convert it to Numpy Array - Multiprocessing Example...\n"
     ]
    },
    {
     "name": "stderr",
     "output_type": "stream",
     "text": [
      "INFO:__main__:loading image 5be15764\n",
      "INFO:__main__:loading image 7ee5fd5d\n",
      "INFO:__main__:loading image faadb65d\n",
      "INFO:__main__:loading image f1042790\n",
      "INFO:__main__:loading image aeb98553\n",
      "INFO:__main__:loading image 0a5dec33\n",
      "INFO:__main__:loading image 7a080e0c\n",
      "INFO:__main__:loading image 1acbc16b\n",
      "INFO:__main__:loading image 49d1ac73\n",
      "INFO:__main__:loading image 53f0c3a0\n",
      "INFO:__main__:loading image 769aec01\n",
      "INFO:__main__:loading image 0637533a\n",
      "INFO:__main__:loading image 02778389\n",
      "INFO:__main__:loading image 08f0c7b9\n",
      "INFO:__main__:loading image 95c8ef0d\n",
      "INFO:__main__:loading image e490523c\n",
      "INFO:__main__:loading image 1c2ddbcd\n",
      "INFO:__main__:loading image 1d8c4f49\n",
      "INFO:__main__:loading image bf481c9b\n",
      "INFO:__main__:loading image efdc51da\n"
     ]
    },
    {
     "name": "stdout",
     "output_type": "stream",
     "text": [
      "<<Finished function Load Images and Convert it to Numpy Array - Multiprocessing Example in 10.23697805404663 seconds\n"
     ]
    }
   ],
   "source": [
    "with DecoTimer(\"Load Images and Convert it to Numpy Array - Multiprocessing Example\"):\n",
    "    with Pool(4) as p:\n",
    "        images = p.map(image_read_as_nparray, filenames)\n",
    "        "
   ]
  },
  {
   "cell_type": "markdown",
   "metadata": {},
   "source": [
    "### 3. Grayscale Image"
   ]
  },
  {
   "cell_type": "code",
   "execution_count": 49,
   "metadata": {},
   "outputs": [],
   "source": [
    "def grayscale_for_loop(image, n):\n",
    "    for i in range(len(image)):\n",
    "        for j in range(len(image[0])):\n",
    "            average = (image[i][j][0] + image[i][j][1] + image[i][j][2]) / 3\n",
    "            image[i][j][0] = image[i][j][1] = image[i][j][2] = average\n",
    "    im = Image.fromarray(np.uint8(image))\n",
    "    logging.info('Grayscaled image')\n",
    "    if n == 0:\n",
    "        im.show() # only display one image to prove that the image is grayscaled\n",
    "    return im"
   ]
  },
  {
   "cell_type": "code",
   "execution_count": 50,
   "metadata": {},
   "outputs": [],
   "source": [
    "# Save Original Images for quick resetting\n",
    "original_images = [np.copy(image) for image in images]\n",
    "Image.fromarray(np.uint8(images[0])).show()"
   ]
  },
  {
   "cell_type": "markdown",
   "metadata": {},
   "source": [
    "#### 3.1 Single Threaded (using For-Loop) 48-53 seconds"
   ]
  },
  {
   "cell_type": "code",
   "execution_count": 51,
   "metadata": {},
   "outputs": [
    {
     "name": "stdout",
     "output_type": "stream",
     "text": [
      ">>>>Starting Function Grayscale Image - Single Threaded For Loop...\n"
     ]
    },
    {
     "name": "stderr",
     "output_type": "stream",
     "text": [
      "INFO:root:Grayscaled image\n",
      "INFO:root:Grayscaled image\n",
      "INFO:root:Grayscaled image\n",
      "INFO:root:Grayscaled image\n",
      "INFO:root:Grayscaled image\n",
      "INFO:root:Grayscaled image\n",
      "INFO:root:Grayscaled image\n",
      "INFO:root:Grayscaled image\n",
      "INFO:root:Grayscaled image\n",
      "INFO:root:Grayscaled image\n",
      "INFO:root:Grayscaled image\n",
      "INFO:root:Grayscaled image\n",
      "INFO:root:Grayscaled image\n",
      "INFO:root:Grayscaled image\n",
      "INFO:root:Grayscaled image\n",
      "INFO:root:Grayscaled image\n",
      "INFO:root:Grayscaled image\n",
      "INFO:root:Grayscaled image\n",
      "INFO:root:Grayscaled image\n",
      "INFO:root:Grayscaled image\n"
     ]
    },
    {
     "name": "stdout",
     "output_type": "stream",
     "text": [
      "<<Finished function Grayscale Image - Single Threaded For Loop in 49.26708245277405 seconds\n"
     ]
    }
   ],
   "source": [
    "with DecoTimer(\"Grayscale Image - Single Threaded For Loop\"):\n",
    "    for n, image in enumerate(images):\n",
    "        im = grayscale_for_loop(image, n)"
   ]
  },
  {
   "cell_type": "markdown",
   "metadata": {},
   "source": [
    "#### Multithreading Example (using For-Loop) 54-58 seconds"
   ]
  },
  {
   "cell_type": "code",
   "execution_count": 52,
   "metadata": {},
   "outputs": [],
   "source": [
    "# Resetting Images\n",
    "images = [np.copy(original_image) for original_image in original_images]\n",
    "Image.fromarray(np.uint8(images[0])).show()"
   ]
  },
  {
   "cell_type": "code",
   "execution_count": 53,
   "metadata": {},
   "outputs": [
    {
     "name": "stdout",
     "output_type": "stream",
     "text": [
      ">>>>Starting Function Grayscale Image - Multithreading For Loop...\n"
     ]
    },
    {
     "name": "stderr",
     "output_type": "stream",
     "text": [
      "INFO:root:Grayscaled image\n",
      "INFO:root:Grayscaled image\n",
      "INFO:root:Grayscaled image\n",
      "INFO:root:Grayscaled image\n",
      "INFO:root:Grayscaled image\n",
      "INFO:root:Grayscaled image\n",
      "INFO:root:Grayscaled image\n",
      "INFO:root:Grayscaled image\n",
      "INFO:root:Grayscaled image\n",
      "INFO:root:Grayscaled image\n",
      "INFO:root:Grayscaled image\n",
      "INFO:root:Grayscaled image\n",
      "INFO:root:Grayscaled image\n",
      "INFO:root:Grayscaled image\n",
      "INFO:root:Grayscaled image\n",
      "INFO:root:Grayscaled image\n",
      "INFO:root:Grayscaled image\n",
      "INFO:root:Grayscaled image\n",
      "INFO:root:Grayscaled image\n",
      "INFO:root:Grayscaled image\n"
     ]
    },
    {
     "name": "stdout",
     "output_type": "stream",
     "text": [
      "<<Finished function Grayscale Image - Multithreading For Loop in 54.78285098075867 seconds\n"
     ]
    }
   ],
   "source": [
    "class GrayscaleWorker(Thread):\n",
    "    \n",
    "    def __init__(self, queue):\n",
    "        Thread.__init__(self)\n",
    "        self.queue = queue # create a worker queue to pass in numpy array sequentially\n",
    "        \n",
    "    def run(self):\n",
    "        while True:\n",
    "            n, image = self.queue.get()\n",
    "            try:\n",
    "                im = grayscale_for_loop(image, n)\n",
    "            finally:\n",
    "                self.queue.task_done()\n",
    "\n",
    "with DecoTimer(\"Grayscale Image - Multithreading For Loop\"):\n",
    "    queue = Queue()\n",
    "    for x in range(4):\n",
    "        worker = GrayscaleWorker(queue)\n",
    "        worker.daemon = True\n",
    "        worker.start()\n",
    "    \n",
    "    for n, image in enumerate(images):\n",
    "        queue.put((n, image))\n",
    "    queue.join()"
   ]
  },
  {
   "cell_type": "markdown",
   "metadata": {},
   "source": [
    "#### Multiprocessing Example (using For-Loop) 26-30 seconds"
   ]
  },
  {
   "cell_type": "code",
   "execution_count": 56,
   "metadata": {},
   "outputs": [],
   "source": [
    "# Resetting Images\n",
    "images = [np.copy(original_image) for original_image in original_images]\n",
    "Image.fromarray(np.uint8(images[0])).show()"
   ]
  },
  {
   "cell_type": "code",
   "execution_count": 57,
   "metadata": {},
   "outputs": [
    {
     "name": "stdout",
     "output_type": "stream",
     "text": [
      ">>>>Starting Function Grayscale Image - MultiProcessing Example ...\n"
     ]
    },
    {
     "name": "stderr",
     "output_type": "stream",
     "text": [
      "INFO:root:Grayscaled image\n",
      "INFO:root:Grayscaled image\n",
      "INFO:root:Grayscaled image\n",
      "INFO:root:Grayscaled image\n",
      "INFO:root:Grayscaled image\n",
      "INFO:root:Grayscaled image\n",
      "INFO:root:Grayscaled image\n",
      "INFO:root:Grayscaled image\n",
      "INFO:root:Grayscaled image\n",
      "INFO:root:Grayscaled image\n",
      "INFO:root:Grayscaled image\n",
      "INFO:root:Grayscaled image\n",
      "INFO:root:Grayscaled image\n",
      "INFO:root:Grayscaled image\n",
      "INFO:root:Grayscaled image\n",
      "INFO:root:Grayscaled image\n",
      "INFO:root:Grayscaled image\n",
      "INFO:root:Grayscaled image\n",
      "INFO:root:Grayscaled image\n",
      "INFO:root:Grayscaled image\n"
     ]
    },
    {
     "name": "stdout",
     "output_type": "stream",
     "text": [
      "<<Finished function Grayscale Image - MultiProcessing Example  in 26.930018186569214 seconds\n"
     ]
    }
   ],
   "source": [
    "\n",
    "with DecoTimer(\"Grayscale Image - MultiProcessing Example \"):\n",
    "    with Pool(4) as p:\n",
    "        im_arr = p.starmap(grayscale_for_loop, zip(images, [i for i in range(len(images))]))\n",
    "        "
   ]
  },
  {
   "cell_type": "markdown",
   "metadata": {},
   "source": [
    "#### 2.4 Numpy Vector Operations (Single Thread, Eliminate Inner Loops) 48~56 seconds"
   ]
  },
  {
   "cell_type": "code",
   "execution_count": 58,
   "metadata": {},
   "outputs": [],
   "source": [
    "# Resetting Images\n",
    "images = [np.copy(original_image) for original_image in original_images]\n",
    "Image.fromarray(np.uint8(images[0])).show()"
   ]
  },
  {
   "cell_type": "code",
   "execution_count": 59,
   "metadata": {},
   "outputs": [],
   "source": [
    "def grayscale_vector(image, n):\n",
    "    average = ((image[:, :, 0] + image[:, :, 1] + image[:, :, 2]) / 3).astype(int)\n",
    "    image[:, :, 0] = image[:, :, 1] = image[:, :, 2] = average\n",
    "    im = Image.fromarray(np.uint8(image)).show()\n",
    "    logging.info('Grayscaled image')\n",
    "    if n == 0:\n",
    "        im.show()\n",
    "    return im"
   ]
  },
  {
   "cell_type": "code",
   "execution_count": 60,
   "metadata": {},
   "outputs": [
    {
     "name": "stdout",
     "output_type": "stream",
     "text": [
      ">>>>Starting Function Single Threaded with Numpy Vectorization, Eliminate Inner Loop...\n"
     ]
    },
    {
     "name": "stderr",
     "output_type": "stream",
     "text": [
      "INFO:root:Grayscaled image\n",
      "INFO:root:Grayscaled image\n",
      "INFO:root:Grayscaled image\n",
      "INFO:root:Grayscaled image\n",
      "INFO:root:Grayscaled image\n",
      "INFO:root:Grayscaled image\n",
      "INFO:root:Grayscaled image\n",
      "INFO:root:Grayscaled image\n",
      "INFO:root:Grayscaled image\n",
      "INFO:root:Grayscaled image\n",
      "INFO:root:Grayscaled image\n",
      "INFO:root:Grayscaled image\n",
      "INFO:root:Grayscaled image\n",
      "INFO:root:Grayscaled image\n",
      "INFO:root:Grayscaled image\n",
      "INFO:root:Grayscaled image\n",
      "INFO:root:Grayscaled image\n",
      "INFO:root:Grayscaled image\n",
      "INFO:root:Grayscaled image\n",
      "INFO:root:Grayscaled image\n"
     ]
    },
    {
     "name": "stdout",
     "output_type": "stream",
     "text": [
      "<<Finished function Single Threaded with Numpy Vectorization, Eliminate Inner Loop in 53.031378984451294 seconds\n"
     ]
    }
   ],
   "source": [
    "with DecoTimer(\"Single Threaded with Numpy Vectorization, Eliminate Inner Loop\"):\n",
    "    for n, image in enumerate(images):\n",
    "        im = grayscale_for_loop(image, n)"
   ]
  },
  {
   "cell_type": "markdown",
   "metadata": {},
   "source": [
    "#### 2.5 Numpy Vector Operation (Single Thread, Vectorized Across All Images):    **Less than 1 Second**"
   ]
  },
  {
   "cell_type": "code",
   "execution_count": 65,
   "metadata": {},
   "outputs": [],
   "source": [
    "# Resetting Images\n",
    "images = [np.copy(original_image) for original_image in original_images]\n",
    "Image.fromarray(np.uint8(images[0])).show()"
   ]
  },
  {
   "cell_type": "code",
   "execution_count": 66,
   "metadata": {},
   "outputs": [
    {
     "name": "stdout",
     "output_type": "stream",
     "text": [
      ">>>>Starting Function Vectorized Across All Images...\n",
      "<<Finished function Vectorized Across All Images in 0.8148548603057861 seconds\n"
     ]
    }
   ],
   "source": [
    "with DecoTimer(\"Vectorized Across All Images\"):\n",
    "    npimages = np.array(images)\n",
    "    average = ((npimages[:, :, :, 0] + npimages[:, :, :, 1] + npimages[:, :, :, 2]) / 3).astype(int)\n",
    "    npimages[:, :, :, 0] = npimages[:, :, :, 1] = npimages[:, :, :, 2] = average\n",
    "    \n",
    "    for n in range(len(npimages)):\n",
    "        im = Image.fromarray(np.uint8(npimages[n]))\n",
    "        if n == 0:\n",
    "            im.show()\n"
   ]
  },
  {
   "cell_type": "code",
   "execution_count": 67,
   "metadata": {},
   "outputs": [],
   "source": [
    "remove_images() # clean up"
   ]
  }
 ],
 "metadata": {
  "kernelspec": {
   "display_name": "Python 3",
   "language": "python",
   "name": "python3"
  },
  "language_info": {
   "codemirror_mode": {
    "name": "ipython",
    "version": 3
   },
   "file_extension": ".py",
   "mimetype": "text/x-python",
   "name": "python",
   "nbconvert_exporter": "python",
   "pygments_lexer": "ipython3",
   "version": "3.6.4"
  }
 },
 "nbformat": 4,
 "nbformat_minor": 2
}
